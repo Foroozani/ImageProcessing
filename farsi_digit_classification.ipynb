{
 "cells": [
  {
   "cell_type": "markdown",
   "metadata": {},
   "source": [
    "<div class='alert alert-success'>\n",
    "    <h1 align=\"center\"> Handwritten digit dataset in Farsi & English</h1> \n",
    "     <h1 align=\"center\">   Image classification </h1>\n",
    "</div>"
   ]
  },
  {
   "cell_type": "markdown",
   "metadata": {},
   "source": [
    "# Handwritten Farsi digits\n",
    "\n",
    "\n",
    "Although Farsi is a right to left script, its digits are written from left to righ. HODA dataset has 102,352 digits which extracted from about 12,000 registration forms. \n",
    "\n"
   ]
  },
  {
   "cell_type": "markdown",
   "metadata": {},
   "source": [
    "<img src='./image/digit.png' width='50%'/>"
   ]
  },
  {
   "cell_type": "code",
   "execution_count": null,
   "metadata": {},
   "outputs": [],
   "source": [
    "#! pip install scikit-image   # install scikit-image"
   ]
  },
  {
   "cell_type": "code",
   "execution_count": 1,
   "metadata": {},
   "outputs": [],
   "source": [
    "import numpy as np\n",
    "from scipy import io\n",
    "import matplotlib.pyplot as plt\n",
    "from skimage.transform import resize"
   ]
  },
  {
   "cell_type": "markdown",
   "metadata": {},
   "source": [
    "This dataset is written with Matlab, one can load it with \"scipy\"."
   ]
  },
  {
   "cell_type": "code",
   "execution_count": 2,
   "metadata": {},
   "outputs": [],
   "source": [
    "#load dataset\n",
    "dataset = io.loadmat('./dataset/Data_hoda_full.mat')"
   ]
  },
  {
   "cell_type": "code",
   "execution_count": 3,
   "metadata": {},
   "outputs": [
    {
     "data": {
      "text/plain": [
       "{'__header__': b'MATLAB 5.0 MAT-file, Platform: PCWIN64, Created on: Thu Jun 30 20:26:30 2011',\n",
       " '__version__': '1.0',\n",
       " '__globals__': [],\n",
       " 'Data': array([[array([[  0,   0,   0,   0, 255, 255,   0,   0,   0,   0,   0,   0,   0,\n",
       "           0,   0,   0,   0,   0,   0,   0],\n",
       "        [  0,   0,   0, 255, 255, 255, 255,   0,   0,   0,   0,   0,   0,\n",
       "           0,   0,   0,   0,   0,   0,   0],\n",
       "        [  0,   0, 255, 255, 255, 255, 255,   0,   0,   0,   0,   0,   0,\n",
       "           0,   0,   0,   0, 255, 255,   0],\n",
       "        [  0, 255, 255, 255, 255, 255,   0,   0,   0,   0,   0,   0,   0,\n",
       "           0,   0,   0, 255, 255, 255, 255],\n",
       "        [  0, 255, 255, 255, 255,   0,   0,   0,   0,   0,   0,   0,   0,\n",
       "           0,   0, 255, 255, 255, 255,   0],\n",
       "        [  0, 255, 255, 255,   0,   0,   0,   0,   0,   0,   0,   0,   0,\n",
       "           0, 255, 255, 255, 255, 255,   0],\n",
       "        [255, 255, 255, 255,   0,   0,   0,   0,   0,   0,   0,   0,   0,\n",
       "         255, 255, 255, 255, 255,   0,   0],\n",
       "        [255, 255, 255,   0,   0,   0,   0,   0,   0,   0,   0,   0, 255,\n",
       "         255, 255, 255, 255,   0,   0,   0],\n",
       "        [255, 255, 255,   0,   0,   0,   0,   0,   0,   0, 255, 255, 255,\n",
       "         255, 255, 255, 255,   0,   0,   0],\n",
       "        [255, 255, 255,   0,   0,   0,   0,   0,   0, 255, 255, 255, 255,\n",
       "         255, 255, 255,   0,   0,   0,   0],\n",
       "        [255, 255, 255, 255, 255, 255, 255, 255, 255, 255, 255, 255, 255,\n",
       "         255, 255,   0,   0,   0,   0,   0],\n",
       "        [255, 255, 255, 255, 255, 255, 255, 255, 255, 255, 255, 255, 255,\n",
       "         255,   0,   0,   0,   0,   0,   0],\n",
       "        [  0, 255, 255, 255, 255, 255, 255, 255, 255, 255, 255, 255, 255,\n",
       "           0,   0,   0,   0,   0,   0,   0],\n",
       "        [  0,   0,   0,   0, 255, 255, 255, 255, 255, 255, 255, 255, 255,\n",
       "           0,   0,   0,   0,   0,   0,   0],\n",
       "        [  0,   0,   0,   0,   0,   0,   0, 255, 255, 255, 255, 255,   0,\n",
       "           0,   0,   0,   0,   0,   0,   0],\n",
       "        [  0,   0,   0,   0,   0,   0,   0, 255, 255, 255, 255,   0,   0,\n",
       "           0,   0,   0,   0,   0,   0,   0],\n",
       "        [  0,   0,   0,   0,   0,   0, 255, 255, 255, 255, 255,   0,   0,\n",
       "           0,   0,   0,   0,   0,   0,   0],\n",
       "        [  0,   0,   0,   0,   0,   0, 255, 255, 255, 255,   0,   0,   0,\n",
       "           0,   0,   0,   0,   0,   0,   0],\n",
       "        [  0,   0,   0,   0,   0, 255, 255, 255, 255, 255,   0,   0,   0,\n",
       "           0,   0,   0,   0,   0,   0,   0],\n",
       "        [  0,   0,   0,   0,   0, 255, 255, 255, 255,   0,   0,   0,   0,\n",
       "           0,   0,   0,   0,   0,   0,   0],\n",
       "        [  0,   0,   0,   0,   0, 255, 255, 255, 255,   0,   0,   0,   0,\n",
       "           0,   0,   0,   0,   0,   0,   0],\n",
       "        [  0,   0,   0,   0,   0, 255, 255, 255, 255,   0,   0,   0,   0,\n",
       "           0,   0,   0,   0,   0,   0,   0],\n",
       "        [  0,   0,   0,   0,   0, 255, 255, 255,   0,   0,   0,   0,   0,\n",
       "           0,   0,   0,   0,   0,   0,   0],\n",
       "        [  0,   0,   0,   0, 255, 255, 255, 255,   0,   0,   0,   0,   0,\n",
       "           0,   0,   0,   0,   0,   0,   0],\n",
       "        [  0,   0,   0,   0, 255, 255, 255, 255,   0,   0,   0,   0,   0,\n",
       "           0,   0,   0,   0,   0,   0,   0],\n",
       "        [  0,   0,   0,   0, 255, 255, 255,   0,   0,   0,   0,   0,   0,\n",
       "           0,   0,   0,   0,   0,   0,   0],\n",
       "        [  0,   0,   0,   0,   0, 255, 255,   0,   0,   0,   0,   0,   0,\n",
       "           0,   0,   0,   0,   0,   0,   0]], dtype=uint8)],\n",
       "        [array([[  0,   0,   0,   0,   0,   0,   0,   0,   0,   0, 255, 255,   0,\n",
       "           0,   0,   0,   0,   0,   0,   0,   0],\n",
       "        [  0,   0,   0,   0,   0,   0,   0,   0,   0, 255, 255, 255, 255,\n",
       "           0,   0,   0,   0,   0,   0,   0,   0],\n",
       "        [  0,   0,   0,   0,   0,   0,   0,   0, 255, 255, 255, 255, 255,\n",
       "         255,   0,   0,   0,   0,   0,   0,   0],\n",
       "        [  0,   0,   0,   0,   0,   0,   0,   0, 255, 255, 255, 255, 255,\n",
       "         255, 255,   0,   0,   0,   0,   0,   0],\n",
       "        [  0,   0,   0,   0,   0,   0, 255, 255, 255, 255, 255, 255, 255,\n",
       "         255, 255,   0,   0,   0,   0,   0,   0],\n",
       "        [  0,   0,   0,   0,   0, 255, 255, 255, 255, 255, 255, 255, 255,\n",
       "         255, 255, 255,   0,   0,   0,   0,   0],\n",
       "        [  0,   0,   0,   0, 255, 255, 255, 255, 255,   0,   0,   0,   0,\n",
       "         255, 255, 255, 255,   0,   0,   0,   0],\n",
       "        [  0,   0,   0,   0, 255, 255, 255, 255,   0,   0,   0,   0,   0,\n",
       "           0, 255, 255, 255,   0,   0,   0,   0],\n",
       "        [  0,   0,   0, 255, 255, 255, 255,   0,   0,   0,   0,   0,   0,\n",
       "           0,   0, 255, 255, 255,   0,   0,   0],\n",
       "        [  0,   0, 255, 255, 255, 255,   0,   0,   0,   0,   0,   0,   0,\n",
       "           0,   0, 255, 255, 255, 255,   0,   0],\n",
       "        [  0, 255, 255, 255, 255, 255,   0,   0,   0,   0,   0,   0,   0,\n",
       "           0,   0, 255, 255, 255, 255, 255,   0],\n",
       "        [  0, 255, 255, 255, 255,   0,   0,   0,   0,   0,   0,   0,   0,\n",
       "           0,   0,   0, 255, 255, 255, 255,   0],\n",
       "        [255, 255, 255, 255,   0,   0,   0,   0,   0,   0,   0, 255, 255,\n",
       "           0,   0,   0,   0, 255, 255, 255, 255],\n",
       "        [255, 255, 255, 255,   0,   0,   0,   0,   0,   0, 255, 255, 255,\n",
       "         255,   0,   0,   0, 255, 255, 255, 255],\n",
       "        [255, 255, 255,   0,   0,   0,   0,   0,   0, 255, 255, 255, 255,\n",
       "         255,   0,   0,   0, 255, 255, 255, 255],\n",
       "        [255, 255, 255,   0,   0,   0,   0,   0,   0, 255, 255, 255, 255,\n",
       "         255,   0,   0,   0, 255, 255, 255, 255],\n",
       "        [255, 255, 255,   0,   0,   0,   0,   0, 255, 255, 255, 255, 255,\n",
       "         255, 255,   0, 255, 255, 255, 255,   0],\n",
       "        [  0, 255,   0,   0,   0,   0, 255, 255, 255, 255, 255, 255, 255,\n",
       "         255, 255, 255, 255, 255, 255, 255,   0],\n",
       "        [  0,   0,   0,   0,   0, 255, 255, 255, 255, 255, 255, 255, 255,\n",
       "         255,   0, 255, 255, 255, 255,   0,   0],\n",
       "        [  0,   0,   0,   0, 255, 255, 255, 255, 255,   0,   0,   0,   0,\n",
       "           0,   0,   0,   0,   0,   0,   0,   0]], dtype=uint8)],\n",
       "        [array([[  0, 255, 255, 255, 255, 255, 255, 255, 255,   0,   0,   0, 255,\n",
       "         255,   0],\n",
       "        [  0, 255, 255, 255, 255, 255, 255, 255, 255, 255, 255, 255, 255,\n",
       "         255,   0],\n",
       "        [255, 255, 255, 255, 255, 255, 255, 255, 255, 255, 255, 255, 255,\n",
       "         255, 255],\n",
       "        [255, 255, 255, 255, 255,   0, 255, 255, 255,   0, 255, 255, 255,\n",
       "         255, 255],\n",
       "        [255, 255, 255, 255,   0,   0,   0,   0,   0,   0, 255, 255, 255,\n",
       "         255, 255],\n",
       "        [255, 255, 255, 255, 255, 255, 255, 255, 255, 255, 255, 255, 255,\n",
       "         255, 255],\n",
       "        [255, 255, 255, 255, 255, 255, 255, 255, 255, 255, 255, 255, 255,\n",
       "         255,   0],\n",
       "        [  0, 255, 255, 255, 255, 255, 255, 255, 255, 255, 255, 255, 255,\n",
       "         255,   0],\n",
       "        [  0,   0, 255, 255, 255, 255, 255, 255, 255, 255, 255, 255, 255,\n",
       "           0,   0],\n",
       "        [  0,   0,   0,   0, 255,   0, 255, 255, 255,   0,   0,   0,   0,\n",
       "           0,   0]], dtype=uint8)],\n",
       "        ...,\n",
       "        [array([[  0, 255, 255, 255,   0,   0,   0,   0,   0,   0,   0,   0, 255,\n",
       "         255,   0],\n",
       "        [255, 255, 255, 255,   0,   0,   0,   0,   0,   0,   0,   0, 255,\n",
       "         255, 255],\n",
       "        [  0, 255, 255, 255, 255,   0,   0,   0,   0,   0,   0,   0, 255,\n",
       "         255, 255],\n",
       "        [  0, 255, 255, 255, 255,   0,   0,   0,   0,   0,   0, 255, 255,\n",
       "         255, 255],\n",
       "        [  0, 255, 255, 255, 255, 255,   0,   0,   0,   0,   0, 255, 255,\n",
       "         255, 255],\n",
       "        [  0, 255, 255, 255, 255, 255,   0,   0, 255, 255, 255, 255, 255,\n",
       "         255,   0],\n",
       "        [  0,   0, 255, 255, 255, 255, 255, 255, 255, 255, 255, 255, 255,\n",
       "           0,   0],\n",
       "        [  0,   0, 255, 255, 255, 255, 255, 255, 255, 255, 255,   0,   0,\n",
       "           0,   0],\n",
       "        [  0,   0, 255, 255, 255, 255,   0,   0,   0,   0,   0,   0,   0,\n",
       "           0,   0],\n",
       "        [  0,   0, 255, 255, 255, 255,   0,   0,   0,   0,   0,   0,   0,\n",
       "           0,   0],\n",
       "        [  0,   0, 255, 255, 255, 255,   0,   0,   0,   0,   0,   0,   0,\n",
       "           0,   0],\n",
       "        [  0,   0, 255, 255, 255, 255,   0,   0,   0,   0,   0,   0,   0,\n",
       "           0,   0],\n",
       "        [  0,   0, 255, 255, 255, 255,   0,   0,   0,   0,   0,   0,   0,\n",
       "           0,   0],\n",
       "        [  0,   0, 255, 255, 255, 255,   0,   0,   0,   0,   0,   0,   0,\n",
       "           0,   0],\n",
       "        [  0,   0, 255, 255, 255, 255,   0,   0,   0,   0,   0,   0,   0,\n",
       "           0,   0],\n",
       "        [  0,   0, 255, 255, 255, 255,   0,   0,   0,   0,   0,   0,   0,\n",
       "           0,   0],\n",
       "        [  0,   0,   0, 255, 255, 255,   0,   0,   0,   0,   0,   0,   0,\n",
       "           0,   0],\n",
       "        [  0,   0,   0, 255, 255, 255,   0,   0,   0,   0,   0,   0,   0,\n",
       "           0,   0],\n",
       "        [  0,   0,   0, 255, 255, 255,   0,   0,   0,   0,   0,   0,   0,\n",
       "           0,   0],\n",
       "        [  0,   0,   0,   0, 255, 255, 255,   0,   0,   0,   0,   0,   0,\n",
       "           0,   0],\n",
       "        [  0,   0,   0,   0, 255, 255, 255,   0,   0,   0,   0,   0,   0,\n",
       "           0,   0],\n",
       "        [  0,   0,   0, 255, 255, 255, 255,   0,   0,   0,   0,   0,   0,\n",
       "           0,   0],\n",
       "        [  0,   0,   0,   0, 255, 255, 255, 255,   0,   0,   0,   0,   0,\n",
       "           0,   0],\n",
       "        [  0,   0,   0,   0,   0, 255, 255, 255,   0,   0,   0,   0,   0,\n",
       "           0,   0],\n",
       "        [  0,   0,   0,   0,   0,   0,   0, 255,   0,   0,   0,   0,   0,\n",
       "           0,   0]], dtype=uint8)],\n",
       "        [array([[  0,   0,   0,   0,   0,   0, 255, 255, 255,   0,   0,   0,   0,\n",
       "           0,   0,   0,   0,   0],\n",
       "        [  0,   0,   0,   0,   0,   0, 255, 255, 255, 255,   0,   0,   0,\n",
       "           0,   0,   0,   0,   0],\n",
       "        [  0,   0,   0,   0,   0, 255, 255, 255, 255, 255,   0,   0,   0,\n",
       "           0,   0,   0,   0,   0],\n",
       "        [  0,   0,   0,   0,   0, 255, 255, 255, 255,   0,   0,   0,   0,\n",
       "           0,   0,   0,   0,   0],\n",
       "        [  0,   0,   0,   0,   0, 255, 255,   0,   0,   0,   0,   0,   0,\n",
       "           0,   0,   0,   0,   0],\n",
       "        [  0,   0,   0,   0,   0, 255, 255,   0,   0,   0,   0,   0,   0,\n",
       "           0,   0,   0, 255, 255],\n",
       "        [  0,   0,   0,   0, 255, 255, 255,   0,   0,   0,   0,   0,   0,\n",
       "           0,   0,   0, 255, 255],\n",
       "        [  0,   0,   0,   0, 255, 255, 255,   0,   0,   0,   0,   0,   0,\n",
       "           0,   0, 255, 255, 255],\n",
       "        [  0,   0,   0, 255, 255, 255, 255,   0,   0,   0,   0,   0,   0,\n",
       "           0,   0, 255, 255, 255],\n",
       "        [  0,   0,   0, 255, 255, 255, 255,   0,   0,   0,   0,   0,   0,\n",
       "           0, 255, 255, 255,   0],\n",
       "        [  0,   0,   0, 255, 255, 255,   0,   0,   0,   0,   0,   0,   0,\n",
       "         255, 255, 255, 255,   0],\n",
       "        [  0,   0,   0, 255, 255, 255,   0,   0,   0,   0,   0, 255, 255,\n",
       "         255, 255, 255,   0,   0],\n",
       "        [  0,   0,   0, 255, 255, 255,   0,   0,   0,   0,   0, 255, 255,\n",
       "         255, 255,   0,   0,   0],\n",
       "        [  0,   0,   0,   0, 255, 255, 255,   0,   0,   0, 255, 255, 255,\n",
       "         255,   0,   0,   0,   0],\n",
       "        [  0,   0,   0,   0, 255, 255, 255, 255, 255, 255, 255, 255, 255,\n",
       "         255,   0,   0,   0,   0],\n",
       "        [  0,   0,   0,   0, 255, 255, 255, 255, 255, 255, 255, 255, 255,\n",
       "           0,   0,   0,   0,   0],\n",
       "        [  0,   0,   0,   0,   0, 255, 255, 255, 255, 255, 255, 255,   0,\n",
       "           0,   0,   0,   0,   0],\n",
       "        [  0,   0,   0,   0,   0,   0, 255, 255, 255, 255, 255,   0,   0,\n",
       "           0,   0,   0,   0,   0],\n",
       "        [  0,   0,   0,   0,   0,   0,   0, 255, 255, 255,   0,   0,   0,\n",
       "           0,   0,   0,   0,   0],\n",
       "        [  0,   0,   0,   0,   0,   0, 255, 255, 255,   0,   0,   0,   0,\n",
       "           0,   0,   0,   0,   0],\n",
       "        [  0,   0,   0,   0,   0, 255, 255, 255, 255,   0,   0,   0,   0,\n",
       "           0,   0,   0,   0,   0],\n",
       "        [  0,   0,   0,   0,   0, 255, 255, 255, 255,   0,   0,   0,   0,\n",
       "           0,   0,   0,   0,   0],\n",
       "        [  0,   0,   0,   0, 255, 255, 255, 255,   0,   0,   0,   0,   0,\n",
       "           0,   0,   0,   0,   0],\n",
       "        [  0,   0,   0, 255, 255, 255, 255,   0,   0,   0,   0,   0,   0,\n",
       "           0,   0,   0,   0,   0],\n",
       "        [  0,   0,   0, 255, 255, 255, 255,   0,   0,   0,   0,   0,   0,\n",
       "           0,   0,   0,   0,   0],\n",
       "        [  0,   0,   0, 255, 255, 255,   0,   0,   0,   0,   0,   0,   0,\n",
       "           0,   0,   0,   0,   0],\n",
       "        [  0,   0, 255, 255, 255, 255,   0,   0,   0,   0,   0,   0,   0,\n",
       "           0,   0,   0,   0,   0],\n",
       "        [  0,   0, 255, 255, 255,   0,   0,   0,   0,   0,   0,   0,   0,\n",
       "           0,   0,   0,   0,   0],\n",
       "        [  0,   0, 255, 255, 255,   0,   0,   0,   0,   0,   0,   0,   0,\n",
       "           0,   0,   0,   0,   0],\n",
       "        [  0, 255, 255, 255,   0,   0,   0,   0,   0,   0,   0,   0,   0,\n",
       "           0,   0,   0,   0,   0],\n",
       "        [255, 255, 255,   0,   0,   0,   0,   0,   0,   0,   0,   0,   0,\n",
       "           0,   0,   0,   0,   0],\n",
       "        [255, 255, 255,   0,   0,   0,   0,   0,   0,   0,   0,   0,   0,\n",
       "           0,   0,   0,   0,   0],\n",
       "        [255, 255, 255,   0,   0,   0,   0,   0,   0,   0,   0,   0,   0,\n",
       "           0,   0,   0,   0,   0],\n",
       "        [255, 255, 255,   0,   0,   0,   0,   0,   0,   0,   0,   0,   0,\n",
       "           0,   0,   0,   0,   0],\n",
       "        [255, 255, 255, 255,   0,   0,   0,   0,   0,   0,   0,   0,   0,\n",
       "           0,   0,   0,   0,   0]], dtype=uint8)],\n",
       "        [array([[  0,   0,   0,   0, 255, 255, 255, 255, 255, 255, 255, 255,   0,\n",
       "           0,   0,   0,   0,   0,   0,   0, 255, 255, 255, 255, 255],\n",
       "        [  0,   0, 255, 255, 255, 255, 255, 255, 255, 255, 255, 255,   0,\n",
       "           0,   0,   0,   0,   0,   0, 255, 255, 255, 255, 255, 255],\n",
       "        [  0,   0, 255, 255, 255, 255, 255,   0, 255, 255, 255,   0,   0,\n",
       "           0,   0,   0,   0,   0,   0, 255, 255, 255, 255, 255, 255],\n",
       "        [  0, 255, 255, 255, 255, 255,   0,   0, 255, 255, 255,   0,   0,\n",
       "           0,   0,   0,   0,   0, 255, 255, 255, 255, 255, 255, 255],\n",
       "        [  0, 255, 255, 255, 255,   0,   0,   0,   0,   0,   0,   0,   0,\n",
       "           0,   0,   0,   0,   0, 255, 255, 255, 255, 255, 255,   0],\n",
       "        [255, 255, 255, 255,   0,   0,   0,   0,   0,   0,   0,   0,   0,\n",
       "           0,   0,   0,   0,   0, 255, 255, 255, 255, 255,   0,   0],\n",
       "        [255, 255, 255, 255, 255,   0,   0,   0,   0,   0,   0,   0,   0,\n",
       "           0,   0,   0,   0, 255, 255, 255, 255, 255, 255,   0,   0],\n",
       "        [255, 255, 255, 255, 255,   0,   0,   0,   0,   0,   0,   0,   0,\n",
       "           0,   0,   0,   0, 255, 255, 255, 255, 255, 255,   0,   0],\n",
       "        [  0, 255, 255, 255,   0,   0,   0,   0,   0,   0,   0,   0,   0,\n",
       "           0,   0,   0, 255, 255, 255, 255, 255, 255, 255,   0,   0],\n",
       "        [  0, 255, 255, 255, 255,   0,   0,   0,   0,   0,   0,   0,   0,\n",
       "           0,   0, 255, 255, 255, 255, 255, 255, 255, 255,   0,   0],\n",
       "        [255, 255, 255, 255, 255,   0,   0,   0,   0,   0,   0,   0,   0,\n",
       "           0, 255, 255, 255, 255, 255, 255, 255, 255, 255,   0,   0],\n",
       "        [255, 255, 255, 255, 255,   0,   0,   0,   0,   0,   0,   0,   0,\n",
       "         255, 255, 255, 255, 255, 255, 255, 255, 255,   0,   0,   0],\n",
       "        [  0, 255, 255, 255, 255, 255, 255, 255, 255,   0,   0, 255, 255,\n",
       "         255, 255, 255, 255, 255, 255, 255, 255, 255,   0,   0,   0],\n",
       "        [  0, 255, 255, 255, 255, 255, 255, 255, 255, 255, 255, 255, 255,\n",
       "         255, 255, 255, 255, 255, 255, 255, 255, 255,   0,   0,   0],\n",
       "        [  0,   0, 255, 255, 255, 255, 255, 255, 255, 255, 255, 255, 255,\n",
       "         255, 255,   0,   0, 255, 255, 255, 255,   0,   0,   0,   0],\n",
       "        [  0,   0,   0, 255, 255, 255, 255, 255, 255, 255, 255, 255, 255,\n",
       "         255,   0,   0,   0, 255, 255, 255, 255,   0,   0,   0,   0],\n",
       "        [  0,   0,   0,   0,   0, 255, 255, 255, 255, 255, 255, 255, 255,\n",
       "           0,   0,   0,   0, 255, 255, 255, 255,   0,   0,   0,   0],\n",
       "        [  0,   0,   0,   0,   0,   0,   0,   0,   0,   0,   0,   0,   0,\n",
       "           0,   0,   0, 255, 255, 255, 255, 255,   0,   0,   0,   0],\n",
       "        [  0,   0,   0,   0,   0,   0,   0,   0,   0,   0,   0,   0,   0,\n",
       "           0,   0,   0, 255, 255, 255, 255, 255,   0,   0,   0,   0],\n",
       "        [  0,   0,   0,   0,   0,   0,   0,   0,   0,   0,   0,   0,   0,\n",
       "           0,   0,   0, 255, 255, 255, 255,   0,   0,   0,   0,   0],\n",
       "        [  0,   0,   0,   0,   0,   0,   0,   0,   0,   0,   0,   0,   0,\n",
       "           0,   0,   0, 255, 255, 255, 255,   0,   0,   0,   0,   0],\n",
       "        [  0,   0,   0,   0,   0,   0,   0,   0,   0,   0,   0,   0,   0,\n",
       "           0,   0, 255, 255, 255, 255, 255,   0,   0,   0,   0,   0],\n",
       "        [  0,   0,   0,   0,   0,   0,   0,   0,   0,   0,   0,   0,   0,\n",
       "           0,   0, 255, 255, 255, 255, 255,   0,   0,   0,   0,   0],\n",
       "        [  0,   0,   0,   0,   0,   0,   0,   0,   0,   0,   0,   0,   0,\n",
       "           0,   0, 255, 255, 255, 255, 255,   0,   0,   0,   0,   0],\n",
       "        [  0,   0,   0,   0,   0,   0,   0,   0,   0,   0,   0,   0,   0,\n",
       "           0,   0, 255, 255, 255, 255,   0,   0,   0,   0,   0,   0],\n",
       "        [  0,   0,   0,   0,   0,   0,   0,   0,   0,   0,   0,   0,   0,\n",
       "           0,   0, 255, 255, 255, 255,   0,   0,   0,   0,   0,   0],\n",
       "        [  0,   0,   0,   0,   0,   0,   0,   0,   0,   0,   0,   0,   0,\n",
       "           0,   0, 255, 255, 255, 255,   0,   0,   0,   0,   0,   0],\n",
       "        [  0,   0,   0,   0,   0,   0,   0,   0,   0,   0,   0,   0,   0,\n",
       "           0,   0, 255, 255, 255, 255,   0,   0,   0,   0,   0,   0],\n",
       "        [  0,   0,   0,   0,   0,   0,   0,   0,   0,   0,   0,   0,   0,\n",
       "           0, 255, 255, 255, 255,   0,   0,   0,   0,   0,   0,   0],\n",
       "        [  0,   0,   0,   0,   0,   0,   0,   0,   0,   0,   0,   0,   0,\n",
       "           0, 255, 255, 255, 255,   0,   0,   0,   0,   0,   0,   0],\n",
       "        [  0,   0,   0,   0,   0,   0,   0,   0,   0,   0,   0,   0,   0,\n",
       "           0, 255, 255, 255, 255,   0,   0,   0,   0,   0,   0,   0],\n",
       "        [  0,   0,   0,   0,   0,   0,   0,   0,   0,   0,   0,   0,   0,\n",
       "           0, 255, 255, 255, 255,   0,   0,   0,   0,   0,   0,   0],\n",
       "        [  0,   0,   0,   0,   0,   0,   0,   0,   0,   0,   0,   0,   0,\n",
       "           0, 255, 255, 255,   0,   0,   0,   0,   0,   0,   0,   0],\n",
       "        [  0,   0,   0,   0,   0,   0,   0,   0,   0,   0,   0,   0,   0,\n",
       "         255, 255, 255, 255, 255,   0,   0,   0,   0,   0,   0,   0],\n",
       "        [  0,   0,   0,   0,   0,   0,   0,   0,   0,   0,   0,   0,   0,\n",
       "           0, 255, 255, 255, 255,   0,   0,   0,   0,   0,   0,   0]],\n",
       "       dtype=uint8)]], dtype=object),\n",
       " 'labels': array([[6],\n",
       "        [5],\n",
       "        [0],\n",
       "        ...,\n",
       "        [2],\n",
       "        [6],\n",
       "        [6]], dtype=uint8)}"
      ]
     },
     "execution_count": 3,
     "metadata": {},
     "output_type": "execute_result"
    }
   ],
   "source": [
    "dataset\n"
   ]
  },
  {
   "cell_type": "markdown",
   "metadata": {},
   "source": [
    "This set has 60,000 digit for Training set and 20,000 digits for test set."
   ]
  },
  {
   "cell_type": "code",
   "execution_count": 4,
   "metadata": {},
   "outputs": [],
   "source": [
    "#test and training set split\n",
    "X_train_orginal = np.squeeze(dataset['Data'][:10000])\n",
    "y_train = np.squeeze(dataset['labels'][:10000])\n",
    "X_test_original = np.squeeze(dataset['Data'][10000:12000])\n",
    "y_test = np.squeeze(dataset['labels'][10000:12000])"
   ]
  },
  {
   "cell_type": "markdown",
   "metadata": {},
   "source": [
    "\"squeeze\": Remove single-dimensional entries from the shape of an array."
   ]
  },
  {
   "cell_type": "code",
   "execution_count": 5,
   "metadata": {},
   "outputs": [
    {
     "data": {
      "image/png": "[encoded data removed]",
      "text/plain": [
       "<Figure size 432x288 with 1 Axes>"
      ]
     },
     "metadata": {
      "needs_background": "light"
     },
     "output_type": "display_data"
    }
   ],
   "source": [
    "plt.imshow(X_train_orginal[400], cmap='gray')\n",
    "plt.show()"
   ]
  },
  {
   "cell_type": "code",
   "execution_count": 6,
   "metadata": {},
   "outputs": [
    {
     "data": {
      "image/png": "[encoded data removed]",
      "text/plain": [
       "<Figure size 432x288 with 1 Axes>"
      ]
     },
     "metadata": {
      "needs_background": "light"
     },
     "output_type": "display_data"
    },
    {
     "name": "stdout",
     "output_type": "stream",
     "text": [
      "Label of 9000th image is: 9\n"
     ]
    }
   ],
   "source": [
    "i=9000\n",
    "image = X_train_orginal[i]\n",
    "label = y_train[i]\n",
    "plt.imshow(image, cmap='gray')\n",
    "plt.show()\n",
    "print(\"Label of {}th image is: {}\".format(i, label))"
   ]
  },
  {
   "cell_type": "code",
   "execution_count": 7,
   "metadata": {},
   "outputs": [
    {
     "data": {
      "text/plain": [
       "(38, 18)"
      ]
     },
     "execution_count": 7,
     "metadata": {},
     "output_type": "execute_result"
    }
   ],
   "source": [
    "image.shape"
   ]
  },
  {
   "cell_type": "code",
   "execution_count": 8,
   "metadata": {},
   "outputs": [],
   "source": [
    "#resize the image from ** to (5,5)\n",
    "X_train_5by5 = [resize(img, (5, 5)) for img in X_train_orginal]\n",
    "X_test_5by_5 = [resize(img, (5, 5)) for img in X_test_original]"
   ]
  },
  {
   "cell_type": "code",
   "execution_count": 9,
   "metadata": {},
   "outputs": [
    {
     "data": {
      "image/png": "[encoded data removed]",
      "text/plain": [
       "<Figure size 432x288 with 1 Axes>"
      ]
     },
     "metadata": {
      "needs_background": "light"
     },
     "output_type": "display_data"
    }
   ],
   "source": [
    "image = X_train_5by5[1]\n",
    "plt.imshow(image, cmap='gray')\n",
    "plt.show()"
   ]
  },
  {
   "cell_type": "code",
   "execution_count": 10,
   "metadata": {},
   "outputs": [
    {
     "data": {
      "text/plain": [
       "(5, 5)"
      ]
     },
     "execution_count": 10,
     "metadata": {},
     "output_type": "execute_result"
    }
   ],
   "source": [
    "image.shape  "
   ]
  },
  {
   "cell_type": "code",
   "execution_count": 11,
   "metadata": {},
   "outputs": [],
   "source": [
    "#reshape\n",
    "X_train = [x.reshape(25) for x in X_train_5by5]\n",
    "X_test = [x.reshape(25) for x in X_test_5by_5]"
   ]
  },
  {
   "cell_type": "code",
   "execution_count": 12,
   "metadata": {},
   "outputs": [
    {
     "data": {
      "text/plain": [
       "(25,)"
      ]
     },
     "execution_count": 12,
     "metadata": {},
     "output_type": "execute_result"
    }
   ],
   "source": [
    "X_train[0].shape"
   ]
  },
  {
   "cell_type": "markdown",
   "metadata": {},
   "source": [
    "**n_neighbor is a hyperparameter which needs to be tuned.**"
   ]
  },
  {
   "cell_type": "code",
   "execution_count": 13,
   "metadata": {},
   "outputs": [],
   "source": [
    "from sklearn.neighbors import KNeighborsClassifier\n",
    "from sklearn.model_selection import train_test_split"
   ]
  },
  {
   "cell_type": "code",
   "execution_count": 14,
   "metadata": {},
   "outputs": [
    {
     "data": {
      "text/plain": [
       "KNeighborsClassifier(n_neighbors=2)"
      ]
     },
     "execution_count": 14,
     "metadata": {},
     "output_type": "execute_result"
    }
   ],
   "source": [
    "neigh = KNeighborsClassifier(n_neighbors=2)\n",
    "neigh.fit(X_train, y_train)"
   ]
  },
  {
   "cell_type": "markdown",
   "metadata": {},
   "source": [
    "# Predictions and Evaluations\n",
    "\n",
    "Let's evaluate our KNN model!"
   ]
  },
  {
   "cell_type": "code",
   "execution_count": 15,
   "metadata": {},
   "outputs": [
    {
     "name": "stdout",
     "output_type": "stream",
     "text": [
      "Sample 24 is a 2, and you prediction is: 2.\n"
     ]
    }
   ],
   "source": [
    "sample = 24\n",
    "\n",
    "X = [X_test[sample]]\n",
    "\n",
    "predicted_class = neigh.predict(X)\n",
    "actual_class = y_test[sample]\n",
    "\n",
    "print (\"Sample {} is a {}, and you prediction is: {}.\".format(sample, actual_class, predicted_class[0]))"
   ]
  },
  {
   "cell_type": "code",
   "execution_count": 16,
   "metadata": {},
   "outputs": [
    {
     "name": "stdout",
     "output_type": "stream",
     "text": [
      "[[0. 0. 1. 0. 0. 0. 0. 0. 0. 0.]]\n"
     ]
    }
   ],
   "source": [
    "print(neigh.predict_proba(X))"
   ]
  },
  {
   "cell_type": "code",
   "execution_count": 17,
   "metadata": {},
   "outputs": [
    {
     "name": "stdout",
     "output_type": "stream",
     "text": [
      "Predicted classes is:\n",
      "[5 8 8 ... 6 8 5]\n",
      "==========================================================================\n",
      "True classes is:\n",
      "[5 8 8 ... 6 8 5]\n"
     ]
    }
   ],
   "source": [
    "y_pred = neigh.predict(X_test)\n",
    "\n",
    "\n",
    "print(\"Predicted classes is:\")\n",
    "print(y_pred)\n",
    "print(\"==========================================================================\")\n",
    "print(\"True classes is:\")\n",
    "print(y_test)"
   ]
  },
  {
   "cell_type": "code",
   "execution_count": 18,
   "metadata": {},
   "outputs": [
    {
     "name": "stdout",
     "output_type": "stream",
     "text": [
      "Accuracy is 96.350 %\n"
     ]
    }
   ],
   "source": [
    "acc = neigh.score(X_test, y_test)\n",
    "print (\"Accuracy is %.3f %%\" %(acc*100))"
   ]
  },
  {
   "cell_type": "code",
   "execution_count": 19,
   "metadata": {},
   "outputs": [],
   "source": [
    "from sklearn.metrics import classification_report,confusion_matrix"
   ]
  },
  {
   "cell_type": "code",
   "execution_count": 20,
   "metadata": {},
   "outputs": [
    {
     "name": "stdout",
     "output_type": "stream",
     "text": [
      "[[216   9   0   0   0   1   0   1   0   0]\n",
      " [  3 187   1   0   0   0   0   0   0   0]\n",
      " [  0   0 189  11   4   0   1   1   0   1]\n",
      " [  0   0   0 166  20   1   0   0   0   0]\n",
      " [  0   0   0   3 176   1   0   0   0   0]\n",
      " [  0   0   0   0   0 181   1   0   0   0]\n",
      " [  0   0   0   0   0   0 206   0   0   6]\n",
      " [  1   0   2   0   0   0   0 204   0   0]\n",
      " [  0   0   0   0   0   1   0   0 202   0]\n",
      " [  0   1   0   0   0   0   1   0   2 200]]\n"
     ]
    }
   ],
   "source": [
    "print(confusion_matrix(y_pred,y_test))"
   ]
  },
  {
   "cell_type": "code",
   "execution_count": 21,
   "metadata": {},
   "outputs": [],
   "source": [
    "error_rate = []\n",
    "\n",
    "# Will take some time\n",
    "for i in range(1,40):\n",
    "    \n",
    "    knn = KNeighborsClassifier(n_neighbors=i)\n",
    "    knn.fit(X_train,y_train)\n",
    "    pred_i = knn.predict(X_test)\n",
    "    error_rate.append(np.mean(pred_i != y_test))"
   ]
  },
  {
   "cell_type": "code",
   "execution_count": 22,
   "metadata": {},
   "outputs": [
    {
     "data": {
      "text/plain": [
       "Text(0, 0.5, 'Error Rate')"
      ]
     },
     "execution_count": 22,
     "metadata": {},
     "output_type": "execute_result"
    },
    {
     "data": {
      "image/png": "[encoded data removed]",
      "text/plain": [
       "<Figure size 720x432 with 1 Axes>"
      ]
     },
     "metadata": {
      "needs_background": "light"
     },
     "output_type": "display_data"
    }
   ],
   "source": [
    "plt.figure(figsize=(10,6))\n",
    "plt.plot(range(1,40),error_rate,color='blue', linestyle='dashed', marker='o',\n",
    "         markerfacecolor='red', markersize=10)\n",
    "plt.title('Error Rate vs. K Value')\n",
    "plt.xlabel('K')\n",
    "plt.ylabel('Error Rate')"
   ]
  },
  {
   "cell_type": "markdown",
   "metadata": {},
   "source": [
    "Here we can see that that after arouns K>4 the error rate just tends to hover around 0.02 Let's retrain the model with that and check the classification report! K=4 is the minimum"
   ]
  },
  {
   "cell_type": "code",
   "execution_count": 25,
   "metadata": {},
   "outputs": [
    {
     "name": "stdout",
     "output_type": "stream",
     "text": [
      "WITH K=4\n",
      "\n",
      "\n",
      "[[217   2   0   0   0   0   0   1   0   0]\n",
      " [  5 191   0   0   0   0   0   0   0   1]\n",
      " [  0   1 188   1   0   0   0   2   0   0]\n",
      " [  0   0   6 171   3   0   0   0   0   0]\n",
      " [  0   0   3  12 185   0   0   0   0   0]\n",
      " [  1   0   0   0   1 181   1   0   1   0]\n",
      " [  0   0   1   0   0   1 206   0   0   1]\n",
      " [  1   0   0   0   0   0   0 205   0   0]\n",
      " [  0   0   0   0   0   0   1   0 201   2]\n",
      " [  0   0   1   0   0   0   4   0   0 202]]\n",
      "\n",
      "\n",
      "              precision    recall  f1-score   support\n",
      "\n",
      "           0       0.97      0.99      0.98       220\n",
      "           1       0.98      0.97      0.98       197\n",
      "           2       0.94      0.98      0.96       192\n",
      "           3       0.93      0.95      0.94       180\n",
      "           4       0.98      0.93      0.95       200\n",
      "           5       0.99      0.98      0.99       185\n",
      "           6       0.97      0.99      0.98       209\n",
      "           7       0.99      1.00      0.99       206\n",
      "           8       1.00      0.99      0.99       204\n",
      "           9       0.98      0.98      0.98       207\n",
      "\n",
      "    accuracy                           0.97      2000\n",
      "   macro avg       0.97      0.97      0.97      2000\n",
      "weighted avg       0.97      0.97      0.97      2000\n",
      "\n"
     ]
    }
   ],
   "source": [
    "# NOW WITH K=4\n",
    "knn = KNeighborsClassifier(n_neighbors=4)\n",
    "\n",
    "knn.fit(X_train,y_train)\n",
    "pred = knn.predict(X_test)\n",
    "\n",
    "print('WITH K=4')\n",
    "print('\\n')\n",
    "print(confusion_matrix(y_test,pred))\n",
    "print('\\n')\n",
    "print(classification_report(y_test,pred))\n",
    "\n"
   ]
  },
  {
   "cell_type": "markdown",
   "metadata": {},
   "source": [
    "**Improved!**"
   ]
  }
 ],
 "metadata": {
  "kernelspec": {
   "display_name": "Python 3",
   "language": "python",
   "name": "python3"
  },
  "language_info": {
   "codemirror_mode": {
    "name": "ipython",
    "version": 3
   },
   "file_extension": ".py",
   "mimetype": "text/x-python",
   "name": "python",
   "nbconvert_exporter": "python",
   "pygments_lexer": "ipython3",
   "version": "3.7.9"
  }
 },
 "nbformat": 4,
 "nbformat_minor": 4
}
