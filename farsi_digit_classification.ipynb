{
 "cells": [
  {
   "cell_type": "markdown",
   "metadata": {},
   "source": [
    "<div class='alert alert-success'>\n",
    "    <h1 align=\"center\"> Handwritten digit dataset in Farsi & English</h1> \n",
    "     <h1 align=\"center\">   Image classification </h1>\n",
    "</div>"
   ]
  },
  {
   "cell_type": "markdown",
   "metadata": {},
   "source": [
    "# Handwritten Farsi digits\n",
    "\n",
    "\n",
    "Although Farsi is a right to left script, its digits are written from left to righ. HODA dataset has 102,352 digits which extracted from about 12,000 registration forms. \n",
    "\n"
   ]
  },
  {
   "cell_type": "markdown",
   "metadata": {},
   "source": [
    "<img src='./img/digit.png' width='50%'/>"
   ]
  },
  {
   "cell_type": "code",
   "execution_count": 1,
   "metadata": {},
   "outputs": [],
   "source": [
    "#! pip install scikit-image   # install scikit-image"
   ]
  },
  {
   "cell_type": "code",
   "execution_count": 2,
   "metadata": {},
   "outputs": [],
   "source": [
    "import numpy as np\n",
    "from scipy import io\n",
    "import matplotlib.pyplot as plt\n",
    "from skimage.transform import resize"
   ]
  },
  {
   "cell_type": "markdown",
   "metadata": {},
   "source": [
    "This dataset is written with Matlab, one can load it with \"scipy\"."
   ]
  },
  {
   "cell_type": "code",
   "execution_count": 3,
   "metadata": {},
   "outputs": [],
   "source": [
    "#load dataset\n",
    "dataset = io.loadmat('./dataset/Data_hoda_full.mat')"
   ]
  },
  {
   "cell_type": "code",
   "execution_count": 4,
   "metadata": {},
   "outputs": [],
   "source": [
    "#dataset\n"
   ]
  },
  {
   "cell_type": "markdown",
   "metadata": {},
   "source": [
    "This set has 60,000 digit for Training set and 20,000 digits for test set."
   ]
  },
  {
   "cell_type": "code",
   "execution_count": 5,
   "metadata": {},
   "outputs": [],
   "source": [
    "#test and training set split\n",
    "X_train_orginal = np.squeeze(dataset['Data'][:10000])\n",
    "y_train = np.squeeze(dataset['labels'][:10000])\n",
    "X_test_original = np.squeeze(dataset['Data'][10000:12000])\n",
    "y_test = np.squeeze(dataset['labels'][10000:12000])"
   ]
  },
  {
   "cell_type": "markdown",
   "metadata": {},
   "source": [
    "\"squeeze\": Remove single-dimensional entries from the shape of an array."
   ]
  },
  {
   "cell_type": "code",
   "execution_count": 6,
   "metadata": {},
   "outputs": [
    {
     "data": {
      "image/png": "[encoded data removed]",
      "text/plain": [
       "<Figure size 432x288 with 1 Axes>"
      ]
     },
     "metadata": {
      "needs_background": "light"
     },
     "output_type": "display_data"
    }
   ],
   "source": [
    "plt.imshow(X_train_orginal[400], cmap='gray')\n",
    "plt.show()"
   ]
  },
  {
   "cell_type": "code",
   "execution_count": 7,
   "metadata": {},
   "outputs": [
    {
     "data": {
      "image/png": "[encoded data removed]",
      "text/plain": [
       "<Figure size 432x288 with 1 Axes>"
      ]
     },
     "metadata": {
      "needs_background": "light"
     },
     "output_type": "display_data"
    },
    {
     "name": "stdout",
     "output_type": "stream",
     "text": [
      "Label of 9000th image is: 9\n"
     ]
    }
   ],
   "source": [
    "i=9000\n",
    "image = X_train_orginal[i]\n",
    "label = y_train[i]\n",
    "plt.imshow(image, cmap='gray')\n",
    "plt.show()\n",
    "print(\"Label of {}th image is: {}\".format(i, label))"
   ]
  },
  {
   "cell_type": "code",
   "execution_count": 8,
   "metadata": {},
   "outputs": [
    {
     "data": {
      "text/plain": [
       "(38, 18)"
      ]
     },
     "execution_count": 8,
     "metadata": {},
     "output_type": "execute_result"
    }
   ],
   "source": [
    "image.shape"
   ]
  },
  {
   "cell_type": "code",
   "execution_count": 9,
   "metadata": {},
   "outputs": [],
   "source": [
    "#resize the image from ** to (5,5)\n",
    "X_train_5by5 = [resize(img, (5, 5)) for img in X_train_orginal]\n",
    "X_test_5by_5 = [resize(img, (5, 5)) for img in X_test_original]"
   ]
  },
  {
   "cell_type": "code",
   "execution_count": 10,
   "metadata": {},
   "outputs": [
    {
     "data": {
      "image/png": "[encoded data removed]",
      "text/plain": [
       "<Figure size 432x288 with 1 Axes>"
      ]
     },
     "metadata": {
      "needs_background": "light"
     },
     "output_type": "display_data"
    }
   ],
   "source": [
    "image = X_train_5by5[1]\n",
    "plt.imshow(image, cmap='gray')\n",
    "plt.show()"
   ]
  },
  {
   "cell_type": "code",
   "execution_count": 11,
   "metadata": {},
   "outputs": [
    {
     "data": {
      "text/plain": [
       "(5, 5)"
      ]
     },
     "execution_count": 11,
     "metadata": {},
     "output_type": "execute_result"
    }
   ],
   "source": [
    "image.shape  "
   ]
  },
  {
   "cell_type": "code",
   "execution_count": 12,
   "metadata": {},
   "outputs": [],
   "source": [
    "#reshape\n",
    "X_train = [x.reshape(25) for x in X_train_5by5]\n",
    "X_test = [x.reshape(25) for x in X_test_5by_5]"
   ]
  },
  {
   "cell_type": "code",
   "execution_count": 13,
   "metadata": {},
   "outputs": [
    {
     "data": {
      "text/plain": [
       "(25,)"
      ]
     },
     "execution_count": 13,
     "metadata": {},
     "output_type": "execute_result"
    }
   ],
   "source": [
    "X_train[0].shape"
   ]
  },
  {
   "cell_type": "markdown",
   "metadata": {},
   "source": [
    "**n_neighbor is a hyperparameter which needs to be tuned.**"
   ]
  },
  {
   "cell_type": "code",
   "execution_count": 14,
   "metadata": {},
   "outputs": [],
   "source": [
    "from sklearn.neighbors import KNeighborsClassifier\n",
    "from sklearn.model_selection import train_test_split"
   ]
  },
  {
   "cell_type": "code",
   "execution_count": 15,
   "metadata": {},
   "outputs": [
    {
     "data": {
      "text/plain": [
       "KNeighborsClassifier(n_neighbors=2)"
      ]
     },
     "execution_count": 15,
     "metadata": {},
     "output_type": "execute_result"
    }
   ],
   "source": [
    "neigh = KNeighborsClassifier(n_neighbors=2)\n",
    "neigh.fit(X_train, y_train)"
   ]
  },
  {
   "cell_type": "markdown",
   "metadata": {},
   "source": [
    "# Predictions and Evaluations\n",
    "\n",
    "Let's evaluate our **KNN** model!"
   ]
  },
  {
   "cell_type": "code",
   "execution_count": 16,
   "metadata": {},
   "outputs": [
    {
     "name": "stdout",
     "output_type": "stream",
     "text": [
      "Sample 24 is a 2, and you prediction is: 2.\n"
     ]
    }
   ],
   "source": [
    "sample = 24\n",
    "\n",
    "X = [X_test[sample]]\n",
    "\n",
    "predicted_class = neigh.predict(X)\n",
    "actual_class = y_test[sample]\n",
    "\n",
    "print (\"Sample {} is a {}, and you prediction is: {}.\".format(sample, actual_class, predicted_class[0]))"
   ]
  },
  {
   "cell_type": "code",
   "execution_count": 17,
   "metadata": {},
   "outputs": [
    {
     "name": "stdout",
     "output_type": "stream",
     "text": [
      "[[0. 0. 1. 0. 0. 0. 0. 0. 0. 0.]]\n"
     ]
    }
   ],
   "source": [
    "print(neigh.predict_proba(X))"
   ]
  },
  {
   "cell_type": "code",
   "execution_count": 18,
   "metadata": {},
   "outputs": [
    {
     "name": "stdout",
     "output_type": "stream",
     "text": [
      "Predicted classes is:\n",
      "[5 8 8 ... 6 8 5]\n",
      "==========================================================================\n",
      "True classes is:\n",
      "[5 8 8 ... 6 8 5]\n"
     ]
    }
   ],
   "source": [
    "y_pred = neigh.predict(X_test)\n",
    "\n",
    "\n",
    "print(\"Predicted classes is:\")\n",
    "print(y_pred)\n",
    "print(\"==========================================================================\")\n",
    "print(\"True classes is:\")\n",
    "print(y_test)"
   ]
  },
  {
   "cell_type": "code",
   "execution_count": 19,
   "metadata": {},
   "outputs": [
    {
     "name": "stdout",
     "output_type": "stream",
     "text": [
      "Accuracy is 96.350 %\n"
     ]
    }
   ],
   "source": [
    "acc = neigh.score(X_test, y_test)\n",
    "print (\"Accuracy is %.3f %%\" %(acc*100))"
   ]
  },
  {
   "cell_type": "code",
   "execution_count": 20,
   "metadata": {},
   "outputs": [],
   "source": [
    "from sklearn.metrics import classification_report,confusion_matrix"
   ]
  },
  {
   "cell_type": "code",
   "execution_count": 21,
   "metadata": {},
   "outputs": [
    {
     "name": "stdout",
     "output_type": "stream",
     "text": [
      "[[216   9   0   0   0   1   0   1   0   0]\n",
      " [  3 187   1   0   0   0   0   0   0   0]\n",
      " [  0   0 189  11   4   0   1   1   0   1]\n",
      " [  0   0   0 166  20   1   0   0   0   0]\n",
      " [  0   0   0   3 176   1   0   0   0   0]\n",
      " [  0   0   0   0   0 181   1   0   0   0]\n",
      " [  0   0   0   0   0   0 206   0   0   6]\n",
      " [  1   0   2   0   0   0   0 204   0   0]\n",
      " [  0   0   0   0   0   1   0   0 202   0]\n",
      " [  0   1   0   0   0   0   1   0   2 200]]\n"
     ]
    }
   ],
   "source": [
    "print(confusion_matrix(y_pred,y_test))"
   ]
  },
  {
   "cell_type": "code",
   "execution_count": 22,
   "metadata": {},
   "outputs": [],
   "source": [
    "error_rate = []\n",
    "\n",
    "# Will take some time\n",
    "for i in range(1,40):\n",
    "    \n",
    "    knn = KNeighborsClassifier(n_neighbors=i)\n",
    "    knn.fit(X_train,y_train)\n",
    "    pred_i = knn.predict(X_test)\n",
    "    error_rate.append(np.mean(pred_i != y_test))"
   ]
  },
  {
   "cell_type": "code",
   "execution_count": 23,
   "metadata": {},
   "outputs": [
    {
     "data": {
      "text/plain": [
       "Text(0, 0.5, 'Error Rate')"
      ]
     },
     "execution_count": 23,
     "metadata": {},
     "output_type": "execute_result"
    },
    {
     "data": {
      "image/png": "[encoded data removed]",
      "text/plain": [
       "<Figure size 720x432 with 1 Axes>"
      ]
     },
     "metadata": {
      "needs_background": "light"
     },
     "output_type": "display_data"
    }
   ],
   "source": [
    "plt.figure(figsize=(10,6))\n",
    "plt.plot(range(1,40),error_rate,color='blue', linestyle='dashed', marker='o',\n",
    "         markerfacecolor='red', markersize=10)\n",
    "plt.title('Error Rate vs. K Value')\n",
    "plt.xlabel('K')\n",
    "plt.ylabel('Error Rate')"
   ]
  },
  {
   "cell_type": "markdown",
   "metadata": {},
   "source": [
    "Here we can see that that after arouns K>4 the error rate just tends to hover around 0.02 Let's retrain the model with that and check the classification report! K=4 is the minimum"
   ]
  },
  {
   "cell_type": "code",
   "execution_count": 24,
   "metadata": {},
   "outputs": [
    {
     "name": "stdout",
     "output_type": "stream",
     "text": [
      "WITH K=4\n",
      "\n",
      "\n",
      "[[217   2   0   0   0   0   0   1   0   0]\n",
      " [  5 191   0   0   0   0   0   0   0   1]\n",
      " [  0   1 188   1   0   0   0   2   0   0]\n",
      " [  0   0   6 171   3   0   0   0   0   0]\n",
      " [  0   0   3  12 185   0   0   0   0   0]\n",
      " [  1   0   0   0   1 181   1   0   1   0]\n",
      " [  0   0   1   0   0   1 206   0   0   1]\n",
      " [  1   0   0   0   0   0   0 205   0   0]\n",
      " [  0   0   0   0   0   0   1   0 201   2]\n",
      " [  0   0   1   0   0   0   4   0   0 202]]\n",
      "\n",
      "\n",
      "              precision    recall  f1-score   support\n",
      "\n",
      "           0       0.97      0.99      0.98       220\n",
      "           1       0.98      0.97      0.98       197\n",
      "           2       0.94      0.98      0.96       192\n",
      "           3       0.93      0.95      0.94       180\n",
      "           4       0.98      0.93      0.95       200\n",
      "           5       0.99      0.98      0.99       185\n",
      "           6       0.97      0.99      0.98       209\n",
      "           7       0.99      1.00      0.99       206\n",
      "           8       1.00      0.99      0.99       204\n",
      "           9       0.98      0.98      0.98       207\n",
      "\n",
      "    accuracy                           0.97      2000\n",
      "   macro avg       0.97      0.97      0.97      2000\n",
      "weighted avg       0.97      0.97      0.97      2000\n",
      "\n"
     ]
    }
   ],
   "source": [
    "# NOW WITH K=4\n",
    "knn = KNeighborsClassifier(n_neighbors=4)\n",
    "\n",
    "knn.fit(X_train,y_train)\n",
    "pred = knn.predict(X_test)\n",
    "\n",
    "print('WITH K=4')\n",
    "print('\\n')\n",
    "print(confusion_matrix(y_test,pred))\n",
    "print('\\n')\n",
    "print(classification_report(y_test,pred))\n",
    "\n"
   ]
  },
  {
   "cell_type": "markdown",
   "metadata": {},
   "source": [
    "**Improved!**"
   ]
  },
  {
   "cell_type": "markdown",
   "metadata": {},
   "source": [
    "# Neural Networks "
   ]
  },
  {
   "cell_type": "code",
   "execution_count": 26,
   "metadata": {},
   "outputs": [],
   "source": [
    "import keras\n",
    "from keras.models import Sequential\n",
    "from keras.layers import Dense,  Activation\n",
    "import numpy as np"
   ]
  },
  {
   "cell_type": "code",
   "execution_count": 27,
   "metadata": {},
   "outputs": [],
   "source": [
    "np.random.seed(123)  # for reproducibility"
   ]
  },
  {
   "cell_type": "code",
   "execution_count": 30,
   "metadata": {},
   "outputs": [
    {
     "data": {
      "text/plain": [
       "array([0.54941176, 0.48784314, 0.0172549 , 0.14980392, 0.48196078,\n",
       "       0.79176471, 0.2627451 , 0.40862745, 0.72117647, 0.3172549 ,\n",
       "       0.38235294, 0.65686275, 0.8627451 , 0.27058824, 0.00980392,\n",
       "       0.02235294, 0.62313725, 0.41960784, 0.00862745, 0.        ,\n",
       "       0.06901961, 0.69058824, 0.09843137, 0.        , 0.        ])"
      ]
     },
     "execution_count": 30,
     "metadata": {},
     "output_type": "execute_result"
    }
   ],
   "source": [
    "X_train[0]"
   ]
  },
  {
   "cell_type": "code",
   "execution_count": 31,
   "metadata": {},
   "outputs": [],
   "source": [
    "def print_data_info(x_train, y_train, x_test, y_test):\n",
    "    #Check data Type\n",
    "    print (\"\\ttype(x_train): {}\".format(type(x_train)))\n",
    "    print (\"\\ttype(y_train): {}\".format(type(y_train)))\n",
    "\n",
    "    #check data Shape\n",
    "    print (\"\\tx_train.shape: {}\".format(np.shape(x_train)))\n",
    "    print (\"\\ty_train.shape: {}\".format(np.shape(y_train)))\n",
    "    print (\"\\tx_test.shape: {}\".format(np.shape(x_test)))\n",
    "    print (\"\\ty_test.shape: {}\".format(np.shape(y_test)))\n",
    "\n",
    "    #sample data\n",
    "    print (\"\\ty_train[0]: {}\".format(y_train[0]))"
   ]
  },
  {
   "cell_type": "code",
   "execution_count": 34,
   "metadata": {},
   "outputs": [],
   "source": [
    "# Preprocess input data for Keras. \n",
    "x_train = np.array(X_train)\n",
    "y_train = keras.utils.to_categorical(y_train, num_classes=10)\n",
    "x_test = np.array(X_test)\n",
    "y_test = keras.utils.to_categorical(y_test, num_classes=10)"
   ]
  },
  {
   "cell_type": "code",
   "execution_count": 35,
   "metadata": {},
   "outputs": [
    {
     "name": "stdout",
     "output_type": "stream",
     "text": [
      "Before Preprocessing:\n",
      "\ttype(x_train): <class 'list'>\n",
      "\ttype(y_train): <class 'numpy.ndarray'>\n",
      "\tx_train.shape: (10000, 25)\n",
      "\ty_train.shape: (10000, 10)\n",
      "\tx_test.shape: (2000, 25)\n",
      "\ty_test.shape: (2000, 10)\n",
      "\ty_train[0]: [0. 0. 0. 0. 0. 0. 1. 0. 0. 0.]\n",
      "After Preprocessing:\n",
      "\ttype(x_train): <class 'list'>\n",
      "\ttype(y_train): <class 'numpy.ndarray'>\n",
      "\tx_train.shape: (10000, 25)\n",
      "\ty_train.shape: (10000, 10)\n",
      "\tx_test.shape: (2000, 25)\n",
      "\ty_test.shape: (2000, 10)\n",
      "\ty_train[0]: [0. 0. 0. 0. 0. 0. 1. 0. 0. 0.]\n"
     ]
    }
   ],
   "source": [
    "print(\"Before Preprocessing:\")\n",
    "print_data_info(X_train, y_train, X_test, y_test)\n",
    "print(\"After Preprocessing:\")\n",
    "print_data_info(X_train, y_train, x_test, y_test)"
   ]
  },
  {
   "cell_type": "code",
   "execution_count": 36,
   "metadata": {},
   "outputs": [],
   "source": [
    "x_train = x_train.astype('float32')\n",
    "x_test = x_test.astype('float32')\n",
    "x_train /= 255\n",
    "x_test /= 255"
   ]
  },
  {
   "cell_type": "markdown",
   "metadata": {},
   "source": [
    "## model architecture"
   ]
  },
  {
   "cell_type": "code",
   "execution_count": 37,
   "metadata": {},
   "outputs": [
    {
     "name": "stdout",
     "output_type": "stream",
     "text": [
      "Model: \"sequential_1\"\n",
      "_________________________________________________________________\n",
      "Layer (type)                 Output Shape              Param #   \n",
      "=================================================================\n",
      "dense_1 (Dense)              (None, 64)                1664      \n",
      "_________________________________________________________________\n",
      "dense_2 (Dense)              (None, 10)                650       \n",
      "=================================================================\n",
      "Total params: 2,314\n",
      "Trainable params: 2,314\n",
      "Non-trainable params: 0\n",
      "_________________________________________________________________\n"
     ]
    }
   ],
   "source": [
    "model = Sequential()\n",
    "model.add(Dense(64, activation='relu', input_dim=25))\n",
    "model.add(Dense(10, activation='softmax'))\n",
    "model.summary()"
   ]
  },
  {
   "cell_type": "code",
   "execution_count": 38,
   "metadata": {},
   "outputs": [],
   "source": [
    "# compile the model \n",
    "model.compile(loss='categorical_crossentropy',\n",
    "              optimizer='adam',\n",
    "              metrics=['accuracy'])"
   ]
  },
  {
   "cell_type": "code",
   "execution_count": 41,
   "metadata": {},
   "outputs": [
    {
     "name": "stdout",
     "output_type": "stream",
     "text": [
      "Train on 8000 samples, validate on 2000 samples\n",
      "Epoch 1/300\n",
      "8000/8000 [==============================] - 0s 7us/step - loss: 1.4295 - accuracy: 0.7126 - val_loss: 1.4243 - val_accuracy: 0.7070\n",
      "Epoch 2/300\n",
      "8000/8000 [==============================] - 0s 6us/step - loss: 1.4046 - accuracy: 0.7157 - val_loss: 1.4014 - val_accuracy: 0.7010\n",
      "Epoch 3/300\n",
      "8000/8000 [==============================] - 0s 6us/step - loss: 1.3810 - accuracy: 0.7179 - val_loss: 1.3782 - val_accuracy: 0.7085\n",
      "Epoch 4/300\n",
      "8000/8000 [==============================] - 0s 6us/step - loss: 1.3575 - accuracy: 0.7230 - val_loss: 1.3545 - val_accuracy: 0.7125\n",
      "Epoch 5/300\n",
      "8000/8000 [==============================] - 0s 7us/step - loss: 1.3354 - accuracy: 0.7259 - val_loss: 1.3342 - val_accuracy: 0.7135\n",
      "Epoch 6/300\n",
      "8000/8000 [==============================] - 0s 7us/step - loss: 1.3141 - accuracy: 0.7259 - val_loss: 1.3112 - val_accuracy: 0.7265\n",
      "Epoch 7/300\n",
      "8000/8000 [==============================] - 0s 6us/step - loss: 1.2933 - accuracy: 0.7301 - val_loss: 1.2904 - val_accuracy: 0.7240\n",
      "Epoch 8/300\n",
      "8000/8000 [==============================] - 0s 6us/step - loss: 1.2728 - accuracy: 0.7339 - val_loss: 1.2700 - val_accuracy: 0.7260\n",
      "Epoch 9/300\n",
      "8000/8000 [==============================] - 0s 6us/step - loss: 1.2538 - accuracy: 0.7344 - val_loss: 1.2507 - val_accuracy: 0.7260\n",
      "Epoch 10/300\n",
      "8000/8000 [==============================] - 0s 6us/step - loss: 1.2351 - accuracy: 0.7410 - val_loss: 1.2326 - val_accuracy: 0.7305\n",
      "Epoch 11/300\n",
      "8000/8000 [==============================] - 0s 6us/step - loss: 1.2165 - accuracy: 0.7409 - val_loss: 1.2134 - val_accuracy: 0.7250\n",
      "Epoch 12/300\n",
      "8000/8000 [==============================] - 0s 7us/step - loss: 1.1991 - accuracy: 0.7406 - val_loss: 1.1965 - val_accuracy: 0.7260\n",
      "Epoch 13/300\n",
      "8000/8000 [==============================] - 0s 7us/step - loss: 1.1815 - accuracy: 0.7490 - val_loss: 1.1822 - val_accuracy: 0.7350\n",
      "Epoch 14/300\n",
      "8000/8000 [==============================] - 0s 6us/step - loss: 1.1645 - accuracy: 0.7462 - val_loss: 1.1616 - val_accuracy: 0.7350\n",
      "Epoch 15/300\n",
      "8000/8000 [==============================] - 0s 6us/step - loss: 1.1477 - accuracy: 0.7536 - val_loss: 1.1460 - val_accuracy: 0.7350\n",
      "Epoch 16/300\n",
      "8000/8000 [==============================] - 0s 6us/step - loss: 1.1320 - accuracy: 0.7538 - val_loss: 1.1285 - val_accuracy: 0.7370\n",
      "Epoch 17/300\n",
      "8000/8000 [==============================] - 0s 6us/step - loss: 1.1164 - accuracy: 0.7586 - val_loss: 1.1153 - val_accuracy: 0.7375\n",
      "Epoch 18/300\n",
      "8000/8000 [==============================] - 0s 7us/step - loss: 1.1014 - accuracy: 0.7604 - val_loss: 1.0993 - val_accuracy: 0.7415\n",
      "Epoch 19/300\n",
      "8000/8000 [==============================] - 0s 6us/step - loss: 1.0863 - accuracy: 0.7602 - val_loss: 1.0845 - val_accuracy: 0.7540\n",
      "Epoch 20/300\n",
      "8000/8000 [==============================] - 0s 6us/step - loss: 1.0724 - accuracy: 0.7638 - val_loss: 1.0715 - val_accuracy: 0.7490\n",
      "Epoch 21/300\n",
      "8000/8000 [==============================] - 0s 6us/step - loss: 1.0578 - accuracy: 0.7679 - val_loss: 1.0557 - val_accuracy: 0.7500\n",
      "Epoch 22/300\n",
      "8000/8000 [==============================] - 0s 6us/step - loss: 1.0433 - accuracy: 0.7706 - val_loss: 1.0442 - val_accuracy: 0.7445\n",
      "Epoch 23/300\n",
      "8000/8000 [==============================] - 0s 6us/step - loss: 1.0301 - accuracy: 0.7679 - val_loss: 1.0272 - val_accuracy: 0.7590\n",
      "Epoch 24/300\n",
      "8000/8000 [==============================] - 0s 6us/step - loss: 1.0165 - accuracy: 0.7746 - val_loss: 1.0131 - val_accuracy: 0.7645\n",
      "Epoch 25/300\n",
      "8000/8000 [==============================] - 0s 6us/step - loss: 1.0036 - accuracy: 0.7755 - val_loss: 1.0016 - val_accuracy: 0.7595\n",
      "Epoch 26/300\n",
      "8000/8000 [==============================] - 0s 6us/step - loss: 0.9910 - accuracy: 0.7778 - val_loss: 0.9901 - val_accuracy: 0.7585\n",
      "Epoch 27/300\n",
      "8000/8000 [==============================] - 0s 7us/step - loss: 0.9783 - accuracy: 0.7786 - val_loss: 0.9749 - val_accuracy: 0.7660\n",
      "Epoch 28/300\n",
      "8000/8000 [==============================] - 0s 6us/step - loss: 0.9662 - accuracy: 0.7805 - val_loss: 0.9641 - val_accuracy: 0.7685\n",
      "Epoch 29/300\n",
      "8000/8000 [==============================] - 0s 7us/step - loss: 0.9541 - accuracy: 0.7843 - val_loss: 0.9515 - val_accuracy: 0.7725\n",
      "Epoch 30/300\n",
      "8000/8000 [==============================] - 0s 6us/step - loss: 0.9425 - accuracy: 0.7839 - val_loss: 0.9387 - val_accuracy: 0.7710\n",
      "Epoch 31/300\n",
      "8000/8000 [==============================] - 0s 6us/step - loss: 0.9310 - accuracy: 0.7850 - val_loss: 0.9272 - val_accuracy: 0.7795\n",
      "Epoch 32/300\n",
      "8000/8000 [==============================] - 0s 7us/step - loss: 0.9188 - accuracy: 0.7876 - val_loss: 0.9157 - val_accuracy: 0.7855\n",
      "Epoch 33/300\n",
      "8000/8000 [==============================] - 0s 6us/step - loss: 0.9083 - accuracy: 0.7936 - val_loss: 0.9056 - val_accuracy: 0.7800\n",
      "Epoch 34/300\n",
      "8000/8000 [==============================] - 0s 6us/step - loss: 0.8969 - accuracy: 0.7904 - val_loss: 0.8942 - val_accuracy: 0.7855\n",
      "Epoch 35/300\n",
      "8000/8000 [==============================] - 0s 6us/step - loss: 0.8866 - accuracy: 0.7949 - val_loss: 0.8833 - val_accuracy: 0.7810\n",
      "Epoch 36/300\n",
      "8000/8000 [==============================] - 0s 6us/step - loss: 0.8756 - accuracy: 0.7970 - val_loss: 0.8725 - val_accuracy: 0.7880\n",
      "Epoch 37/300\n",
      "8000/8000 [==============================] - 0s 6us/step - loss: 0.8649 - accuracy: 0.7972 - val_loss: 0.8621 - val_accuracy: 0.7870\n",
      "Epoch 38/300\n",
      "8000/8000 [==============================] - 0s 6us/step - loss: 0.8547 - accuracy: 0.7975 - val_loss: 0.8512 - val_accuracy: 0.7900\n",
      "Epoch 39/300\n",
      "8000/8000 [==============================] - 0s 6us/step - loss: 0.8455 - accuracy: 0.8019 - val_loss: 0.8437 - val_accuracy: 0.7880\n",
      "Epoch 40/300\n",
      "8000/8000 [==============================] - 0s 6us/step - loss: 0.8351 - accuracy: 0.7994 - val_loss: 0.8315 - val_accuracy: 0.7950\n",
      "Epoch 41/300\n",
      "8000/8000 [==============================] - 0s 6us/step - loss: 0.8252 - accuracy: 0.8052 - val_loss: 0.8226 - val_accuracy: 0.7955\n",
      "Epoch 42/300\n",
      "8000/8000 [==============================] - 0s 6us/step - loss: 0.8157 - accuracy: 0.8044 - val_loss: 0.8117 - val_accuracy: 0.8000\n",
      "Epoch 43/300\n",
      "8000/8000 [==============================] - 0s 6us/step - loss: 0.8066 - accuracy: 0.8071 - val_loss: 0.8037 - val_accuracy: 0.7985\n",
      "Epoch 44/300\n",
      "8000/8000 [==============================] - 0s 6us/step - loss: 0.7972 - accuracy: 0.8071 - val_loss: 0.7946 - val_accuracy: 0.8000\n",
      "Epoch 45/300\n",
      "8000/8000 [==============================] - 0s 6us/step - loss: 0.7884 - accuracy: 0.8104 - val_loss: 0.7853 - val_accuracy: 0.8055\n",
      "Epoch 46/300\n",
      "8000/8000 [==============================] - 0s 6us/step - loss: 0.7800 - accuracy: 0.8114 - val_loss: 0.7754 - val_accuracy: 0.8090\n",
      "Epoch 47/300\n",
      "8000/8000 [==============================] - 0s 6us/step - loss: 0.7713 - accuracy: 0.8138 - val_loss: 0.7676 - val_accuracy: 0.8085\n",
      "Epoch 48/300\n",
      "8000/8000 [==============================] - 0s 6us/step - loss: 0.7620 - accuracy: 0.8146 - val_loss: 0.7586 - val_accuracy: 0.8130\n",
      "Epoch 49/300\n",
      "8000/8000 [==============================] - 0s 6us/step - loss: 0.7533 - accuracy: 0.8146 - val_loss: 0.7517 - val_accuracy: 0.8110\n",
      "Epoch 50/300\n",
      "8000/8000 [==============================] - 0s 6us/step - loss: 0.7453 - accuracy: 0.8145 - val_loss: 0.7411 - val_accuracy: 0.8180\n",
      "Epoch 51/300\n",
      "8000/8000 [==============================] - 0s 7us/step - loss: 0.7371 - accuracy: 0.8199 - val_loss: 0.7328 - val_accuracy: 0.8210\n",
      "Epoch 52/300\n",
      "8000/8000 [==============================] - 0s 6us/step - loss: 0.7300 - accuracy: 0.8216 - val_loss: 0.7272 - val_accuracy: 0.8135\n",
      "Epoch 53/300\n",
      "8000/8000 [==============================] - 0s 6us/step - loss: 0.7217 - accuracy: 0.8210 - val_loss: 0.7172 - val_accuracy: 0.8205\n",
      "Epoch 54/300\n",
      "8000/8000 [==============================] - 0s 7us/step - loss: 0.7147 - accuracy: 0.8223 - val_loss: 0.7092 - val_accuracy: 0.8230\n",
      "Epoch 55/300\n",
      "8000/8000 [==============================] - 0s 7us/step - loss: 0.7068 - accuracy: 0.8245 - val_loss: 0.7028 - val_accuracy: 0.8220\n",
      "Epoch 56/300\n",
      "8000/8000 [==============================] - 0s 6us/step - loss: 0.6994 - accuracy: 0.8254 - val_loss: 0.6942 - val_accuracy: 0.8280\n"
     ]
    },
    {
     "name": "stdout",
     "output_type": "stream",
     "text": [
      "Epoch 57/300\n",
      "8000/8000 [==============================] - 0s 6us/step - loss: 0.6918 - accuracy: 0.8282 - val_loss: 0.6883 - val_accuracy: 0.8245\n",
      "Epoch 58/300\n",
      "8000/8000 [==============================] - 0s 7us/step - loss: 0.6852 - accuracy: 0.8282 - val_loss: 0.6802 - val_accuracy: 0.8295\n",
      "Epoch 59/300\n",
      "8000/8000 [==============================] - 0s 6us/step - loss: 0.6774 - accuracy: 0.8313 - val_loss: 0.6732 - val_accuracy: 0.8280\n",
      "Epoch 60/300\n",
      "8000/8000 [==============================] - 0s 6us/step - loss: 0.6712 - accuracy: 0.8342 - val_loss: 0.6673 - val_accuracy: 0.8310\n",
      "Epoch 61/300\n",
      "8000/8000 [==============================] - 0s 6us/step - loss: 0.6643 - accuracy: 0.8330 - val_loss: 0.6600 - val_accuracy: 0.8325\n",
      "Epoch 62/300\n",
      "8000/8000 [==============================] - 0s 6us/step - loss: 0.6572 - accuracy: 0.8356 - val_loss: 0.6535 - val_accuracy: 0.8320\n",
      "Epoch 63/300\n",
      "8000/8000 [==============================] - 0s 6us/step - loss: 0.6513 - accuracy: 0.8375 - val_loss: 0.6477 - val_accuracy: 0.8325\n",
      "Epoch 64/300\n",
      "8000/8000 [==============================] - 0s 6us/step - loss: 0.6451 - accuracy: 0.8359 - val_loss: 0.6400 - val_accuracy: 0.8395\n",
      "Epoch 65/300\n",
      "8000/8000 [==============================] - 0s 6us/step - loss: 0.6381 - accuracy: 0.8399 - val_loss: 0.6354 - val_accuracy: 0.8345\n",
      "Epoch 66/300\n",
      "8000/8000 [==============================] - 0s 6us/step - loss: 0.6324 - accuracy: 0.8394 - val_loss: 0.6279 - val_accuracy: 0.8375\n",
      "Epoch 67/300\n",
      "8000/8000 [==============================] - 0s 6us/step - loss: 0.6263 - accuracy: 0.8416 - val_loss: 0.6207 - val_accuracy: 0.8430\n",
      "Epoch 68/300\n",
      "8000/8000 [==============================] - 0s 6us/step - loss: 0.6199 - accuracy: 0.8430 - val_loss: 0.6142 - val_accuracy: 0.8465\n",
      "Epoch 69/300\n",
      "8000/8000 [==============================] - 0s 6us/step - loss: 0.6151 - accuracy: 0.8431 - val_loss: 0.6096 - val_accuracy: 0.8405\n",
      "Epoch 70/300\n",
      "8000/8000 [==============================] - 0s 6us/step - loss: 0.6093 - accuracy: 0.8443 - val_loss: 0.6031 - val_accuracy: 0.8470\n",
      "Epoch 71/300\n",
      "8000/8000 [==============================] - 0s 7us/step - loss: 0.6033 - accuracy: 0.8454 - val_loss: 0.5976 - val_accuracy: 0.8430\n",
      "Epoch 72/300\n",
      "8000/8000 [==============================] - 0s 7us/step - loss: 0.5977 - accuracy: 0.8472 - val_loss: 0.5914 - val_accuracy: 0.8485\n",
      "Epoch 73/300\n",
      "8000/8000 [==============================] - 0s 7us/step - loss: 0.5923 - accuracy: 0.8464 - val_loss: 0.5865 - val_accuracy: 0.8480\n",
      "Epoch 74/300\n",
      "8000/8000 [==============================] - 0s 6us/step - loss: 0.5868 - accuracy: 0.8478 - val_loss: 0.5813 - val_accuracy: 0.8450\n",
      "Epoch 75/300\n",
      "8000/8000 [==============================] - 0s 6us/step - loss: 0.5817 - accuracy: 0.8487 - val_loss: 0.5750 - val_accuracy: 0.8545\n",
      "Epoch 76/300\n",
      "8000/8000 [==============================] - 0s 6us/step - loss: 0.5766 - accuracy: 0.8508 - val_loss: 0.5701 - val_accuracy: 0.8510\n",
      "Epoch 77/300\n",
      "8000/8000 [==============================] - 0s 6us/step - loss: 0.5716 - accuracy: 0.8524 - val_loss: 0.5674 - val_accuracy: 0.8520\n",
      "Epoch 78/300\n",
      "8000/8000 [==============================] - 0s 6us/step - loss: 0.5667 - accuracy: 0.8508 - val_loss: 0.5590 - val_accuracy: 0.8550\n",
      "Epoch 79/300\n",
      "8000/8000 [==============================] - 0s 6us/step - loss: 0.5608 - accuracy: 0.8531 - val_loss: 0.5545 - val_accuracy: 0.8570\n",
      "Epoch 80/300\n",
      "8000/8000 [==============================] - 0s 6us/step - loss: 0.5568 - accuracy: 0.8547 - val_loss: 0.5523 - val_accuracy: 0.8585\n",
      "Epoch 81/300\n",
      "8000/8000 [==============================] - 0s 6us/step - loss: 0.5527 - accuracy: 0.8555 - val_loss: 0.5458 - val_accuracy: 0.8530\n",
      "Epoch 82/300\n",
      "8000/8000 [==============================] - 0s 6us/step - loss: 0.5476 - accuracy: 0.8554 - val_loss: 0.5400 - val_accuracy: 0.8590\n",
      "Epoch 83/300\n",
      "8000/8000 [==============================] - 0s 6us/step - loss: 0.5427 - accuracy: 0.8571 - val_loss: 0.5386 - val_accuracy: 0.8585\n",
      "Epoch 84/300\n",
      "8000/8000 [==============================] - 0s 6us/step - loss: 0.5391 - accuracy: 0.8564 - val_loss: 0.5313 - val_accuracy: 0.8645\n",
      "Epoch 85/300\n",
      "8000/8000 [==============================] - 0s 6us/step - loss: 0.5340 - accuracy: 0.8575 - val_loss: 0.5277 - val_accuracy: 0.8575\n",
      "Epoch 86/300\n",
      "8000/8000 [==============================] - 0s 6us/step - loss: 0.5306 - accuracy: 0.8591 - val_loss: 0.5220 - val_accuracy: 0.8640\n",
      "Epoch 87/300\n",
      "8000/8000 [==============================] - 0s 6us/step - loss: 0.5257 - accuracy: 0.8612 - val_loss: 0.5198 - val_accuracy: 0.8660\n",
      "Epoch 88/300\n",
      "8000/8000 [==============================] - 0s 6us/step - loss: 0.5213 - accuracy: 0.8606 - val_loss: 0.5144 - val_accuracy: 0.8685\n",
      "Epoch 89/300\n",
      "8000/8000 [==============================] - 0s 6us/step - loss: 0.5176 - accuracy: 0.8618 - val_loss: 0.5099 - val_accuracy: 0.8640\n",
      "Epoch 90/300\n",
      "8000/8000 [==============================] - 0s 6us/step - loss: 0.5129 - accuracy: 0.8622 - val_loss: 0.5054 - val_accuracy: 0.8685\n",
      "Epoch 91/300\n",
      "8000/8000 [==============================] - 0s 6us/step - loss: 0.5093 - accuracy: 0.8619 - val_loss: 0.5021 - val_accuracy: 0.8710\n",
      "Epoch 92/300\n",
      "8000/8000 [==============================] - 0s 6us/step - loss: 0.5055 - accuracy: 0.8651 - val_loss: 0.4970 - val_accuracy: 0.8705\n",
      "Epoch 93/300\n",
      "8000/8000 [==============================] - 0s 6us/step - loss: 0.5014 - accuracy: 0.8645 - val_loss: 0.4939 - val_accuracy: 0.8750\n",
      "Epoch 94/300\n",
      "8000/8000 [==============================] - 0s 6us/step - loss: 0.4981 - accuracy: 0.8645 - val_loss: 0.4905 - val_accuracy: 0.8730\n",
      "Epoch 95/300\n",
      "8000/8000 [==============================] - 0s 6us/step - loss: 0.4943 - accuracy: 0.8664 - val_loss: 0.4867 - val_accuracy: 0.8730\n",
      "Epoch 96/300\n",
      "8000/8000 [==============================] - 0s 6us/step - loss: 0.4904 - accuracy: 0.8665 - val_loss: 0.4834 - val_accuracy: 0.8765\n",
      "Epoch 97/300\n",
      "8000/8000 [==============================] - 0s 6us/step - loss: 0.4877 - accuracy: 0.8660 - val_loss: 0.4788 - val_accuracy: 0.8755\n",
      "Epoch 98/300\n",
      "8000/8000 [==============================] - 0s 6us/step - loss: 0.4838 - accuracy: 0.8673 - val_loss: 0.4764 - val_accuracy: 0.8760\n",
      "Epoch 99/300\n",
      "8000/8000 [==============================] - 0s 6us/step - loss: 0.4799 - accuracy: 0.8675 - val_loss: 0.4722 - val_accuracy: 0.8790\n",
      "Epoch 100/300\n",
      "8000/8000 [==============================] - 0s 6us/step - loss: 0.4765 - accuracy: 0.8681 - val_loss: 0.4677 - val_accuracy: 0.8770\n",
      "Epoch 101/300\n",
      "8000/8000 [==============================] - 0s 6us/step - loss: 0.4734 - accuracy: 0.8691 - val_loss: 0.4659 - val_accuracy: 0.8780\n",
      "Epoch 102/300\n",
      "8000/8000 [==============================] - 0s 6us/step - loss: 0.4701 - accuracy: 0.8704 - val_loss: 0.4616 - val_accuracy: 0.8810\n",
      "Epoch 103/300\n",
      "8000/8000 [==============================] - 0s 6us/step - loss: 0.4670 - accuracy: 0.8711 - val_loss: 0.4580 - val_accuracy: 0.8795\n",
      "Epoch 104/300\n",
      "8000/8000 [==============================] - 0s 6us/step - loss: 0.4633 - accuracy: 0.8730 - val_loss: 0.4553 - val_accuracy: 0.8795\n",
      "Epoch 105/300\n",
      "8000/8000 [==============================] - 0s 6us/step - loss: 0.4601 - accuracy: 0.8726 - val_loss: 0.4513 - val_accuracy: 0.8835\n",
      "Epoch 106/300\n",
      "8000/8000 [==============================] - 0s 6us/step - loss: 0.4575 - accuracy: 0.8729 - val_loss: 0.4494 - val_accuracy: 0.8810\n",
      "Epoch 107/300\n",
      "8000/8000 [==============================] - 0s 6us/step - loss: 0.4544 - accuracy: 0.8748 - val_loss: 0.4454 - val_accuracy: 0.8825\n",
      "Epoch 108/300\n",
      "8000/8000 [==============================] - 0s 7us/step - loss: 0.4516 - accuracy: 0.8741 - val_loss: 0.4437 - val_accuracy: 0.8835\n",
      "Epoch 109/300\n",
      "8000/8000 [==============================] - 0s 7us/step - loss: 0.4487 - accuracy: 0.8752 - val_loss: 0.4408 - val_accuracy: 0.8835\n",
      "Epoch 110/300\n",
      "8000/8000 [==============================] - 0s 6us/step - loss: 0.4452 - accuracy: 0.8759 - val_loss: 0.4376 - val_accuracy: 0.8865\n",
      "Epoch 111/300\n",
      "8000/8000 [==============================] - 0s 6us/step - loss: 0.4433 - accuracy: 0.8773 - val_loss: 0.4329 - val_accuracy: 0.8835\n",
      "Epoch 112/300\n",
      "8000/8000 [==============================] - 0s 6us/step - loss: 0.4395 - accuracy: 0.8750 - val_loss: 0.4319 - val_accuracy: 0.8865\n",
      "Epoch 113/300\n"
     ]
    },
    {
     "name": "stdout",
     "output_type": "stream",
     "text": [
      "8000/8000 [==============================] - 0s 6us/step - loss: 0.4372 - accuracy: 0.8764 - val_loss: 0.4292 - val_accuracy: 0.8860\n",
      "Epoch 114/300\n",
      "8000/8000 [==============================] - 0s 6us/step - loss: 0.4344 - accuracy: 0.8784 - val_loss: 0.4263 - val_accuracy: 0.8895\n",
      "Epoch 115/300\n",
      "8000/8000 [==============================] - 0s 6us/step - loss: 0.4320 - accuracy: 0.8785 - val_loss: 0.4221 - val_accuracy: 0.8890\n",
      "Epoch 116/300\n",
      "8000/8000 [==============================] - 0s 7us/step - loss: 0.4293 - accuracy: 0.8790 - val_loss: 0.4224 - val_accuracy: 0.8890\n",
      "Epoch 117/300\n",
      "8000/8000 [==============================] - 0s 6us/step - loss: 0.4261 - accuracy: 0.8791 - val_loss: 0.4181 - val_accuracy: 0.8910\n",
      "Epoch 118/300\n",
      "8000/8000 [==============================] - 0s 6us/step - loss: 0.4239 - accuracy: 0.8791 - val_loss: 0.4162 - val_accuracy: 0.8935\n",
      "Epoch 119/300\n",
      "8000/8000 [==============================] - 0s 6us/step - loss: 0.4218 - accuracy: 0.8804 - val_loss: 0.4125 - val_accuracy: 0.8890\n",
      "Epoch 120/300\n",
      "8000/8000 [==============================] - 0s 6us/step - loss: 0.4190 - accuracy: 0.8817 - val_loss: 0.4105 - val_accuracy: 0.8915\n",
      "Epoch 121/300\n",
      "8000/8000 [==============================] - 0s 6us/step - loss: 0.4163 - accuracy: 0.8806 - val_loss: 0.4078 - val_accuracy: 0.8945\n",
      "Epoch 122/300\n",
      "8000/8000 [==============================] - 0s 7us/step - loss: 0.4142 - accuracy: 0.8817 - val_loss: 0.4047 - val_accuracy: 0.8910\n",
      "Epoch 123/300\n",
      "8000/8000 [==============================] - 0s 7us/step - loss: 0.4119 - accuracy: 0.8834 - val_loss: 0.4031 - val_accuracy: 0.8925\n",
      "Epoch 124/300\n",
      "8000/8000 [==============================] - 0s 7us/step - loss: 0.4091 - accuracy: 0.8823 - val_loss: 0.4001 - val_accuracy: 0.8915\n",
      "Epoch 125/300\n",
      "8000/8000 [==============================] - 0s 6us/step - loss: 0.4068 - accuracy: 0.8835 - val_loss: 0.4005 - val_accuracy: 0.8890\n",
      "Epoch 126/300\n",
      "8000/8000 [==============================] - 0s 7us/step - loss: 0.4058 - accuracy: 0.8836 - val_loss: 0.3951 - val_accuracy: 0.8950\n",
      "Epoch 127/300\n",
      "8000/8000 [==============================] - 0s 7us/step - loss: 0.4025 - accuracy: 0.8841 - val_loss: 0.3947 - val_accuracy: 0.8890\n",
      "Epoch 128/300\n",
      "8000/8000 [==============================] - 0s 7us/step - loss: 0.4016 - accuracy: 0.8855 - val_loss: 0.3928 - val_accuracy: 0.8940\n",
      "Epoch 129/300\n",
      "8000/8000 [==============================] - 0s 6us/step - loss: 0.3976 - accuracy: 0.8842 - val_loss: 0.3886 - val_accuracy: 0.8965\n",
      "Epoch 130/300\n",
      "8000/8000 [==============================] - 0s 6us/step - loss: 0.3954 - accuracy: 0.8874 - val_loss: 0.3867 - val_accuracy: 0.8925\n",
      "Epoch 131/300\n",
      "8000/8000 [==============================] - 0s 6us/step - loss: 0.3938 - accuracy: 0.8870 - val_loss: 0.3857 - val_accuracy: 0.8925\n",
      "Epoch 132/300\n",
      "8000/8000 [==============================] - 0s 6us/step - loss: 0.3922 - accuracy: 0.8875 - val_loss: 0.3823 - val_accuracy: 0.8975\n",
      "Epoch 133/300\n",
      "8000/8000 [==============================] - 0s 6us/step - loss: 0.3902 - accuracy: 0.8859 - val_loss: 0.3795 - val_accuracy: 0.8965\n",
      "Epoch 134/300\n",
      "8000/8000 [==============================] - 0s 6us/step - loss: 0.3880 - accuracy: 0.8882 - val_loss: 0.3789 - val_accuracy: 0.8970\n",
      "Epoch 135/300\n",
      "8000/8000 [==============================] - 0s 6us/step - loss: 0.3855 - accuracy: 0.8903 - val_loss: 0.3792 - val_accuracy: 0.8945\n",
      "Epoch 136/300\n",
      "8000/8000 [==============================] - 0s 6us/step - loss: 0.3843 - accuracy: 0.8891 - val_loss: 0.3740 - val_accuracy: 0.8980\n",
      "Epoch 137/300\n",
      "8000/8000 [==============================] - 0s 6us/step - loss: 0.3812 - accuracy: 0.8906 - val_loss: 0.3726 - val_accuracy: 0.8955\n",
      "Epoch 138/300\n",
      "8000/8000 [==============================] - 0s 6us/step - loss: 0.3798 - accuracy: 0.8913 - val_loss: 0.3707 - val_accuracy: 0.8985\n",
      "Epoch 139/300\n",
      "8000/8000 [==============================] - 0s 6us/step - loss: 0.3778 - accuracy: 0.8914 - val_loss: 0.3704 - val_accuracy: 0.9015\n",
      "Epoch 140/300\n",
      "8000/8000 [==============================] - 0s 6us/step - loss: 0.3763 - accuracy: 0.8907 - val_loss: 0.3670 - val_accuracy: 0.8990\n",
      "Epoch 141/300\n",
      "8000/8000 [==============================] - 0s 6us/step - loss: 0.3745 - accuracy: 0.8904 - val_loss: 0.3654 - val_accuracy: 0.9000\n",
      "Epoch 142/300\n",
      "8000/8000 [==============================] - 0s 6us/step - loss: 0.3727 - accuracy: 0.8911 - val_loss: 0.3646 - val_accuracy: 0.9020\n",
      "Epoch 143/300\n",
      "8000/8000 [==============================] - 0s 6us/step - loss: 0.3709 - accuracy: 0.8903 - val_loss: 0.3603 - val_accuracy: 0.9010\n",
      "Epoch 144/300\n",
      "8000/8000 [==============================] - 0s 6us/step - loss: 0.3685 - accuracy: 0.8925 - val_loss: 0.3594 - val_accuracy: 0.8995\n",
      "Epoch 145/300\n",
      "8000/8000 [==============================] - 0s 6us/step - loss: 0.3672 - accuracy: 0.8911 - val_loss: 0.3576 - val_accuracy: 0.8995\n",
      "Epoch 146/300\n",
      "8000/8000 [==============================] - 0s 6us/step - loss: 0.3651 - accuracy: 0.8944 - val_loss: 0.3560 - val_accuracy: 0.9030\n",
      "Epoch 147/300\n",
      "8000/8000 [==============================] - 0s 6us/step - loss: 0.3630 - accuracy: 0.8947 - val_loss: 0.3536 - val_accuracy: 0.9015\n",
      "Epoch 148/300\n",
      "8000/8000 [==============================] - 0s 6us/step - loss: 0.3623 - accuracy: 0.8945 - val_loss: 0.3520 - val_accuracy: 0.9020\n",
      "Epoch 149/300\n",
      "8000/8000 [==============================] - 0s 6us/step - loss: 0.3602 - accuracy: 0.8929 - val_loss: 0.3526 - val_accuracy: 0.9045\n",
      "Epoch 150/300\n",
      "8000/8000 [==============================] - 0s 6us/step - loss: 0.3584 - accuracy: 0.8963 - val_loss: 0.3500 - val_accuracy: 0.9050\n",
      "Epoch 151/300\n",
      "8000/8000 [==============================] - 0s 6us/step - loss: 0.3574 - accuracy: 0.8959 - val_loss: 0.3470 - val_accuracy: 0.9020\n",
      "Epoch 152/300\n",
      "8000/8000 [==============================] - 0s 6us/step - loss: 0.3555 - accuracy: 0.8967 - val_loss: 0.3463 - val_accuracy: 0.9035\n",
      "Epoch 153/300\n",
      "8000/8000 [==============================] - 0s 6us/step - loss: 0.3538 - accuracy: 0.8971 - val_loss: 0.3445 - val_accuracy: 0.9025\n",
      "Epoch 154/300\n",
      "8000/8000 [==============================] - 0s 6us/step - loss: 0.3520 - accuracy: 0.8967 - val_loss: 0.3448 - val_accuracy: 0.9035\n",
      "Epoch 155/300\n",
      "8000/8000 [==============================] - 0s 6us/step - loss: 0.3508 - accuracy: 0.8981 - val_loss: 0.3420 - val_accuracy: 0.9060\n",
      "Epoch 156/300\n",
      "8000/8000 [==============================] - 0s 6us/step - loss: 0.3491 - accuracy: 0.8961 - val_loss: 0.3410 - val_accuracy: 0.9060\n",
      "Epoch 157/300\n",
      "8000/8000 [==============================] - 0s 6us/step - loss: 0.3482 - accuracy: 0.8970 - val_loss: 0.3385 - val_accuracy: 0.9050\n",
      "Epoch 158/300\n",
      "8000/8000 [==============================] - 0s 6us/step - loss: 0.3466 - accuracy: 0.8967 - val_loss: 0.3363 - val_accuracy: 0.9035\n",
      "Epoch 159/300\n",
      "8000/8000 [==============================] - 0s 6us/step - loss: 0.3448 - accuracy: 0.8996 - val_loss: 0.3357 - val_accuracy: 0.9035\n",
      "Epoch 160/300\n",
      "8000/8000 [==============================] - 0s 6us/step - loss: 0.3443 - accuracy: 0.8995 - val_loss: 0.3342 - val_accuracy: 0.9030\n",
      "Epoch 161/300\n",
      "8000/8000 [==============================] - 0s 6us/step - loss: 0.3421 - accuracy: 0.8985 - val_loss: 0.3314 - val_accuracy: 0.9040\n",
      "Epoch 162/300\n",
      "8000/8000 [==============================] - 0s 6us/step - loss: 0.3404 - accuracy: 0.8984 - val_loss: 0.3304 - val_accuracy: 0.9045\n",
      "Epoch 163/300\n",
      "8000/8000 [==============================] - 0s 6us/step - loss: 0.3386 - accuracy: 0.9006 - val_loss: 0.3292 - val_accuracy: 0.9090\n",
      "Epoch 164/300\n",
      "8000/8000 [==============================] - 0s 6us/step - loss: 0.3375 - accuracy: 0.9003 - val_loss: 0.3281 - val_accuracy: 0.9055\n",
      "Epoch 165/300\n",
      "8000/8000 [==============================] - 0s 6us/step - loss: 0.3358 - accuracy: 0.8980 - val_loss: 0.3272 - val_accuracy: 0.9045\n",
      "Epoch 166/300\n",
      "8000/8000 [==============================] - 0s 6us/step - loss: 0.3347 - accuracy: 0.9013 - val_loss: 0.3251 - val_accuracy: 0.9050\n",
      "Epoch 167/300\n",
      "8000/8000 [==============================] - 0s 6us/step - loss: 0.3333 - accuracy: 0.9013 - val_loss: 0.3241 - val_accuracy: 0.9065\n",
      "Epoch 168/300\n",
      "8000/8000 [==============================] - 0s 6us/step - loss: 0.3320 - accuracy: 0.9020 - val_loss: 0.3236 - val_accuracy: 0.9050\n"
     ]
    },
    {
     "name": "stdout",
     "output_type": "stream",
     "text": [
      "Epoch 169/300\n",
      "8000/8000 [==============================] - 0s 6us/step - loss: 0.3305 - accuracy: 0.9021 - val_loss: 0.3238 - val_accuracy: 0.9095\n",
      "Epoch 170/300\n",
      "8000/8000 [==============================] - 0s 6us/step - loss: 0.3290 - accuracy: 0.9028 - val_loss: 0.3232 - val_accuracy: 0.9060\n",
      "Epoch 171/300\n",
      "8000/8000 [==============================] - 0s 6us/step - loss: 0.3287 - accuracy: 0.9041 - val_loss: 0.3191 - val_accuracy: 0.9060\n",
      "Epoch 172/300\n",
      "8000/8000 [==============================] - 0s 6us/step - loss: 0.3270 - accuracy: 0.9021 - val_loss: 0.3197 - val_accuracy: 0.9065\n",
      "Epoch 173/300\n",
      "8000/8000 [==============================] - 0s 6us/step - loss: 0.3264 - accuracy: 0.9031 - val_loss: 0.3156 - val_accuracy: 0.9065\n",
      "Epoch 174/300\n",
      "8000/8000 [==============================] - 0s 6us/step - loss: 0.3245 - accuracy: 0.9040 - val_loss: 0.3151 - val_accuracy: 0.9070\n",
      "Epoch 175/300\n",
      "8000/8000 [==============================] - 0s 6us/step - loss: 0.3231 - accuracy: 0.9049 - val_loss: 0.3140 - val_accuracy: 0.9070\n",
      "Epoch 176/300\n",
      "8000/8000 [==============================] - 0s 6us/step - loss: 0.3222 - accuracy: 0.9044 - val_loss: 0.3120 - val_accuracy: 0.9065\n",
      "Epoch 177/300\n",
      "8000/8000 [==============================] - 0s 6us/step - loss: 0.3205 - accuracy: 0.9045 - val_loss: 0.3146 - val_accuracy: 0.9070\n",
      "Epoch 178/300\n",
      "8000/8000 [==============================] - 0s 6us/step - loss: 0.3195 - accuracy: 0.9043 - val_loss: 0.3111 - val_accuracy: 0.9085\n",
      "Epoch 179/300\n",
      "8000/8000 [==============================] - 0s 6us/step - loss: 0.3184 - accuracy: 0.9061 - val_loss: 0.3097 - val_accuracy: 0.9075\n",
      "Epoch 180/300\n",
      "8000/8000 [==============================] - 0s 6us/step - loss: 0.3173 - accuracy: 0.9045 - val_loss: 0.3086 - val_accuracy: 0.9060\n",
      "Epoch 181/300\n",
      "8000/8000 [==============================] - 0s 6us/step - loss: 0.3159 - accuracy: 0.9064 - val_loss: 0.3075 - val_accuracy: 0.9085\n",
      "Epoch 182/300\n",
      "8000/8000 [==============================] - 0s 7us/step - loss: 0.3147 - accuracy: 0.9066 - val_loss: 0.3060 - val_accuracy: 0.9115\n",
      "Epoch 183/300\n",
      "8000/8000 [==============================] - 0s 7us/step - loss: 0.3136 - accuracy: 0.9055 - val_loss: 0.3048 - val_accuracy: 0.9070\n",
      "Epoch 184/300\n",
      "8000/8000 [==============================] - 0s 7us/step - loss: 0.3128 - accuracy: 0.9069 - val_loss: 0.3042 - val_accuracy: 0.9100\n",
      "Epoch 185/300\n",
      "8000/8000 [==============================] - 0s 7us/step - loss: 0.3118 - accuracy: 0.9071 - val_loss: 0.3036 - val_accuracy: 0.9110\n",
      "Epoch 186/300\n",
      "8000/8000 [==============================] - 0s 7us/step - loss: 0.3108 - accuracy: 0.9072 - val_loss: 0.3017 - val_accuracy: 0.9100\n",
      "Epoch 187/300\n",
      "8000/8000 [==============================] - 0s 7us/step - loss: 0.3095 - accuracy: 0.9080 - val_loss: 0.2998 - val_accuracy: 0.9105\n",
      "Epoch 188/300\n",
      "8000/8000 [==============================] - 0s 7us/step - loss: 0.3079 - accuracy: 0.9080 - val_loss: 0.2992 - val_accuracy: 0.9095\n",
      "Epoch 189/300\n",
      "8000/8000 [==============================] - 0s 7us/step - loss: 0.3069 - accuracy: 0.9084 - val_loss: 0.2981 - val_accuracy: 0.9095\n",
      "Epoch 190/300\n",
      "8000/8000 [==============================] - 0s 7us/step - loss: 0.3068 - accuracy: 0.9076 - val_loss: 0.2983 - val_accuracy: 0.9065\n",
      "Epoch 191/300\n",
      "8000/8000 [==============================] - 0s 7us/step - loss: 0.3054 - accuracy: 0.9085 - val_loss: 0.2982 - val_accuracy: 0.9105\n",
      "Epoch 192/300\n",
      "8000/8000 [==============================] - 0s 7us/step - loss: 0.3043 - accuracy: 0.9106 - val_loss: 0.2963 - val_accuracy: 0.9130\n",
      "Epoch 193/300\n",
      "8000/8000 [==============================] - 0s 7us/step - loss: 0.3033 - accuracy: 0.9103 - val_loss: 0.2955 - val_accuracy: 0.9105\n",
      "Epoch 194/300\n",
      "8000/8000 [==============================] - 0s 7us/step - loss: 0.3020 - accuracy: 0.9097 - val_loss: 0.2929 - val_accuracy: 0.9115\n",
      "Epoch 195/300\n",
      "8000/8000 [==============================] - 0s 6us/step - loss: 0.3013 - accuracy: 0.9107 - val_loss: 0.2931 - val_accuracy: 0.9115\n",
      "Epoch 196/300\n",
      "8000/8000 [==============================] - 0s 6us/step - loss: 0.3001 - accuracy: 0.9106 - val_loss: 0.2919 - val_accuracy: 0.9100\n",
      "Epoch 197/300\n",
      "8000/8000 [==============================] - 0s 6us/step - loss: 0.2991 - accuracy: 0.9107 - val_loss: 0.2904 - val_accuracy: 0.9110\n",
      "Epoch 198/300\n",
      "8000/8000 [==============================] - 0s 6us/step - loss: 0.2981 - accuracy: 0.9121 - val_loss: 0.2901 - val_accuracy: 0.9105\n",
      "Epoch 199/300\n",
      "8000/8000 [==============================] - 0s 6us/step - loss: 0.2975 - accuracy: 0.9133 - val_loss: 0.2891 - val_accuracy: 0.9115\n",
      "Epoch 200/300\n",
      "8000/8000 [==============================] - 0s 6us/step - loss: 0.2959 - accuracy: 0.9121 - val_loss: 0.2919 - val_accuracy: 0.9145\n",
      "Epoch 201/300\n",
      "8000/8000 [==============================] - 0s 6us/step - loss: 0.2955 - accuracy: 0.9136 - val_loss: 0.2865 - val_accuracy: 0.9105\n",
      "Epoch 202/300\n",
      "8000/8000 [==============================] - 0s 6us/step - loss: 0.2945 - accuracy: 0.9126 - val_loss: 0.2865 - val_accuracy: 0.9155\n",
      "Epoch 203/300\n",
      "8000/8000 [==============================] - 0s 6us/step - loss: 0.2935 - accuracy: 0.9139 - val_loss: 0.2848 - val_accuracy: 0.9140\n",
      "Epoch 204/300\n",
      "8000/8000 [==============================] - 0s 6us/step - loss: 0.2927 - accuracy: 0.9129 - val_loss: 0.2848 - val_accuracy: 0.9115\n",
      "Epoch 205/300\n",
      "8000/8000 [==============================] - 0s 6us/step - loss: 0.2917 - accuracy: 0.9126 - val_loss: 0.2823 - val_accuracy: 0.9145\n",
      "Epoch 206/300\n",
      "8000/8000 [==============================] - 0s 6us/step - loss: 0.2909 - accuracy: 0.9145 - val_loss: 0.2844 - val_accuracy: 0.9165\n",
      "Epoch 207/300\n",
      "8000/8000 [==============================] - 0s 6us/step - loss: 0.2900 - accuracy: 0.9141 - val_loss: 0.2819 - val_accuracy: 0.9175\n",
      "Epoch 208/300\n",
      "8000/8000 [==============================] - 0s 6us/step - loss: 0.2894 - accuracy: 0.9146 - val_loss: 0.2814 - val_accuracy: 0.9160\n",
      "Epoch 209/300\n",
      "8000/8000 [==============================] - 0s 6us/step - loss: 0.2883 - accuracy: 0.9144 - val_loss: 0.2800 - val_accuracy: 0.9175\n",
      "Epoch 210/300\n",
      "8000/8000 [==============================] - 0s 6us/step - loss: 0.2871 - accuracy: 0.9154 - val_loss: 0.2805 - val_accuracy: 0.9205\n",
      "Epoch 211/300\n",
      "8000/8000 [==============================] - 0s 6us/step - loss: 0.2861 - accuracy: 0.9155 - val_loss: 0.2811 - val_accuracy: 0.9170\n",
      "Epoch 212/300\n",
      "8000/8000 [==============================] - 0s 6us/step - loss: 0.2861 - accuracy: 0.9158 - val_loss: 0.2781 - val_accuracy: 0.9180\n",
      "Epoch 213/300\n",
      "8000/8000 [==============================] - 0s 6us/step - loss: 0.2849 - accuracy: 0.9147 - val_loss: 0.2787 - val_accuracy: 0.9205\n",
      "Epoch 214/300\n",
      "8000/8000 [==============================] - ETA: 0s - loss: 0.2300 - accuracy: 0.92 - 0s 6us/step - loss: 0.2843 - accuracy: 0.9159 - val_loss: 0.2766 - val_accuracy: 0.9150\n",
      "Epoch 215/300\n",
      "8000/8000 [==============================] - 0s 6us/step - loss: 0.2833 - accuracy: 0.9168 - val_loss: 0.2758 - val_accuracy: 0.9195\n",
      "Epoch 216/300\n",
      "8000/8000 [==============================] - 0s 6us/step - loss: 0.2821 - accuracy: 0.9169 - val_loss: 0.2760 - val_accuracy: 0.9175\n",
      "Epoch 217/300\n",
      "8000/8000 [==============================] - 0s 6us/step - loss: 0.2820 - accuracy: 0.9164 - val_loss: 0.2771 - val_accuracy: 0.9225\n",
      "Epoch 218/300\n",
      "8000/8000 [==============================] - 0s 6us/step - loss: 0.2811 - accuracy: 0.9168 - val_loss: 0.2732 - val_accuracy: 0.9170\n",
      "Epoch 219/300\n",
      "8000/8000 [==============================] - 0s 6us/step - loss: 0.2807 - accuracy: 0.9156 - val_loss: 0.2728 - val_accuracy: 0.9215\n",
      "Epoch 220/300\n",
      "8000/8000 [==============================] - 0s 6us/step - loss: 0.2799 - accuracy: 0.9166 - val_loss: 0.2727 - val_accuracy: 0.9215\n",
      "Epoch 221/300\n",
      "8000/8000 [==============================] - 0s 6us/step - loss: 0.2786 - accuracy: 0.9165 - val_loss: 0.2709 - val_accuracy: 0.9200\n",
      "Epoch 222/300\n",
      "8000/8000 [==============================] - 0s 6us/step - loss: 0.2776 - accuracy: 0.9179 - val_loss: 0.2704 - val_accuracy: 0.9175\n",
      "Epoch 223/300\n",
      "8000/8000 [==============================] - 0s 6us/step - loss: 0.2765 - accuracy: 0.9181 - val_loss: 0.2701 - val_accuracy: 0.9220\n",
      "Epoch 224/300\n"
     ]
    },
    {
     "name": "stdout",
     "output_type": "stream",
     "text": [
      "8000/8000 [==============================] - 0s 6us/step - loss: 0.2763 - accuracy: 0.9184 - val_loss: 0.2691 - val_accuracy: 0.9195\n",
      "Epoch 225/300\n",
      "8000/8000 [==============================] - 0s 6us/step - loss: 0.2753 - accuracy: 0.9190 - val_loss: 0.2686 - val_accuracy: 0.9175\n",
      "Epoch 226/300\n",
      "8000/8000 [==============================] - 0s 6us/step - loss: 0.2747 - accuracy: 0.9183 - val_loss: 0.2682 - val_accuracy: 0.9225\n",
      "Epoch 227/300\n",
      "8000/8000 [==============================] - 0s 6us/step - loss: 0.2739 - accuracy: 0.9199 - val_loss: 0.2663 - val_accuracy: 0.9215\n",
      "Epoch 228/300\n",
      "8000/8000 [==============================] - 0s 6us/step - loss: 0.2737 - accuracy: 0.9194 - val_loss: 0.2659 - val_accuracy: 0.9215\n",
      "Epoch 229/300\n",
      "8000/8000 [==============================] - 0s 6us/step - loss: 0.2728 - accuracy: 0.9194 - val_loss: 0.2666 - val_accuracy: 0.9210\n",
      "Epoch 230/300\n",
      "8000/8000 [==============================] - 0s 6us/step - loss: 0.2726 - accuracy: 0.9199 - val_loss: 0.2649 - val_accuracy: 0.9215\n",
      "Epoch 231/300\n",
      "8000/8000 [==============================] - 0s 7us/step - loss: 0.2714 - accuracy: 0.9197 - val_loss: 0.2649 - val_accuracy: 0.9220\n",
      "Epoch 232/300\n",
      "8000/8000 [==============================] - 0s 6us/step - loss: 0.2705 - accuracy: 0.9200 - val_loss: 0.2654 - val_accuracy: 0.9285\n",
      "Epoch 233/300\n",
      "8000/8000 [==============================] - 0s 6us/step - loss: 0.2698 - accuracy: 0.9211 - val_loss: 0.2624 - val_accuracy: 0.9190\n",
      "Epoch 234/300\n",
      "8000/8000 [==============================] - 0s 6us/step - loss: 0.2690 - accuracy: 0.9208 - val_loss: 0.2625 - val_accuracy: 0.9235\n",
      "Epoch 235/300\n",
      "8000/8000 [==============================] - 0s 6us/step - loss: 0.2684 - accuracy: 0.9200 - val_loss: 0.2609 - val_accuracy: 0.9220\n",
      "Epoch 236/300\n",
      "8000/8000 [==============================] - 0s 6us/step - loss: 0.2681 - accuracy: 0.9216 - val_loss: 0.2613 - val_accuracy: 0.9205\n",
      "Epoch 237/300\n",
      "8000/8000 [==============================] - 0s 6us/step - loss: 0.2672 - accuracy: 0.9224 - val_loss: 0.2595 - val_accuracy: 0.9205\n",
      "Epoch 238/300\n",
      "8000/8000 [==============================] - 0s 6us/step - loss: 0.2673 - accuracy: 0.9224 - val_loss: 0.2597 - val_accuracy: 0.9295\n",
      "Epoch 239/300\n",
      "8000/8000 [==============================] - 0s 6us/step - loss: 0.2657 - accuracy: 0.9222 - val_loss: 0.2607 - val_accuracy: 0.9250\n",
      "Epoch 240/300\n",
      "8000/8000 [==============================] - 0s 6us/step - loss: 0.2658 - accuracy: 0.9218 - val_loss: 0.2584 - val_accuracy: 0.9270\n",
      "Epoch 241/300\n",
      "8000/8000 [==============================] - 0s 6us/step - loss: 0.2640 - accuracy: 0.9235 - val_loss: 0.2579 - val_accuracy: 0.9320\n",
      "Epoch 242/300\n",
      "8000/8000 [==============================] - 0s 6us/step - loss: 0.2641 - accuracy: 0.9219 - val_loss: 0.2561 - val_accuracy: 0.9250\n",
      "Epoch 243/300\n",
      "8000/8000 [==============================] - 0s 6us/step - loss: 0.2635 - accuracy: 0.9222 - val_loss: 0.2553 - val_accuracy: 0.9270\n",
      "Epoch 244/300\n",
      "8000/8000 [==============================] - 0s 6us/step - loss: 0.2625 - accuracy: 0.9225 - val_loss: 0.2566 - val_accuracy: 0.9320\n",
      "Epoch 245/300\n",
      "8000/8000 [==============================] - 0s 6us/step - loss: 0.2621 - accuracy: 0.9235 - val_loss: 0.2572 - val_accuracy: 0.9260\n",
      "Epoch 246/300\n",
      "8000/8000 [==============================] - 0s 6us/step - loss: 0.2618 - accuracy: 0.9221 - val_loss: 0.2563 - val_accuracy: 0.9255\n",
      "Epoch 247/300\n",
      "8000/8000 [==============================] - 0s 6us/step - loss: 0.2610 - accuracy: 0.9244 - val_loss: 0.2554 - val_accuracy: 0.9315\n",
      "Epoch 248/300\n",
      "8000/8000 [==============================] - 0s 6us/step - loss: 0.2600 - accuracy: 0.9236 - val_loss: 0.2552 - val_accuracy: 0.9310\n",
      "Epoch 249/300\n",
      "8000/8000 [==============================] - 0s 6us/step - loss: 0.2598 - accuracy: 0.9236 - val_loss: 0.2539 - val_accuracy: 0.9310\n",
      "Epoch 250/300\n",
      "8000/8000 [==============================] - 0s 6us/step - loss: 0.2585 - accuracy: 0.9233 - val_loss: 0.2534 - val_accuracy: 0.9250\n",
      "Epoch 251/300\n",
      "8000/8000 [==============================] - 0s 6us/step - loss: 0.2586 - accuracy: 0.9239 - val_loss: 0.2521 - val_accuracy: 0.9310\n",
      "Epoch 252/300\n",
      "8000/8000 [==============================] - 0s 6us/step - loss: 0.2574 - accuracy: 0.9254 - val_loss: 0.2518 - val_accuracy: 0.9275\n",
      "Epoch 253/300\n",
      "8000/8000 [==============================] - 0s 6us/step - loss: 0.2578 - accuracy: 0.9230 - val_loss: 0.2512 - val_accuracy: 0.9285\n",
      "Epoch 254/300\n",
      "8000/8000 [==============================] - 0s 6us/step - loss: 0.2561 - accuracy: 0.9259 - val_loss: 0.2512 - val_accuracy: 0.9280\n",
      "Epoch 255/300\n",
      "8000/8000 [==============================] - 0s 6us/step - loss: 0.2558 - accuracy: 0.9254 - val_loss: 0.2496 - val_accuracy: 0.9335\n",
      "Epoch 256/300\n",
      "8000/8000 [==============================] - 0s 6us/step - loss: 0.2556 - accuracy: 0.9246 - val_loss: 0.2503 - val_accuracy: 0.9330\n",
      "Epoch 257/300\n",
      "8000/8000 [==============================] - 0s 6us/step - loss: 0.2546 - accuracy: 0.9256 - val_loss: 0.2492 - val_accuracy: 0.9315\n",
      "Epoch 258/300\n",
      "8000/8000 [==============================] - 0s 6us/step - loss: 0.2542 - accuracy: 0.9249 - val_loss: 0.2496 - val_accuracy: 0.9300\n",
      "Epoch 259/300\n",
      "8000/8000 [==============================] - 0s 6us/step - loss: 0.2538 - accuracy: 0.9254 - val_loss: 0.2496 - val_accuracy: 0.9265\n",
      "Epoch 260/300\n",
      "8000/8000 [==============================] - 0s 6us/step - loss: 0.2531 - accuracy: 0.9275 - val_loss: 0.2487 - val_accuracy: 0.9290\n",
      "Epoch 261/300\n",
      "8000/8000 [==============================] - 0s 7us/step - loss: 0.2522 - accuracy: 0.9268 - val_loss: 0.2487 - val_accuracy: 0.9300\n",
      "Epoch 262/300\n",
      "8000/8000 [==============================] - 0s 6us/step - loss: 0.2520 - accuracy: 0.9260 - val_loss: 0.2468 - val_accuracy: 0.9330\n",
      "Epoch 263/300\n",
      "8000/8000 [==============================] - 0s 6us/step - loss: 0.2511 - accuracy: 0.9275 - val_loss: 0.2456 - val_accuracy: 0.9325\n",
      "Epoch 264/300\n",
      "8000/8000 [==============================] - 0s 6us/step - loss: 0.2515 - accuracy: 0.9269 - val_loss: 0.2465 - val_accuracy: 0.9315\n",
      "Epoch 265/300\n",
      "8000/8000 [==============================] - 0s 6us/step - loss: 0.2510 - accuracy: 0.9266 - val_loss: 0.2458 - val_accuracy: 0.9320\n",
      "Epoch 266/300\n",
      "8000/8000 [==============================] - 0s 7us/step - loss: 0.2501 - accuracy: 0.9268 - val_loss: 0.2433 - val_accuracy: 0.9335\n",
      "Epoch 267/300\n",
      "8000/8000 [==============================] - 0s 6us/step - loss: 0.2494 - accuracy: 0.9286 - val_loss: 0.2441 - val_accuracy: 0.9320\n",
      "Epoch 268/300\n",
      "8000/8000 [==============================] - 0s 6us/step - loss: 0.2489 - accuracy: 0.9274 - val_loss: 0.2433 - val_accuracy: 0.9325\n",
      "Epoch 269/300\n",
      "8000/8000 [==============================] - 0s 6us/step - loss: 0.2487 - accuracy: 0.9268 - val_loss: 0.2441 - val_accuracy: 0.9305\n",
      "Epoch 270/300\n",
      "8000/8000 [==============================] - 0s 6us/step - loss: 0.2475 - accuracy: 0.9280 - val_loss: 0.2430 - val_accuracy: 0.9320\n",
      "Epoch 271/300\n",
      "8000/8000 [==============================] - 0s 6us/step - loss: 0.2470 - accuracy: 0.9286 - val_loss: 0.2415 - val_accuracy: 0.9335\n",
      "Epoch 272/300\n",
      "8000/8000 [==============================] - 0s 6us/step - loss: 0.2467 - accuracy: 0.9271 - val_loss: 0.2428 - val_accuracy: 0.9300\n",
      "Epoch 273/300\n",
      "8000/8000 [==============================] - 0s 6us/step - loss: 0.2471 - accuracy: 0.9285 - val_loss: 0.2415 - val_accuracy: 0.9305\n",
      "Epoch 274/300\n",
      "8000/8000 [==============================] - 0s 6us/step - loss: 0.2458 - accuracy: 0.9290 - val_loss: 0.2406 - val_accuracy: 0.9320\n",
      "Epoch 275/300\n",
      "8000/8000 [==============================] - 0s 6us/step - loss: 0.2454 - accuracy: 0.9280 - val_loss: 0.2432 - val_accuracy: 0.9320\n",
      "Epoch 276/300\n",
      "8000/8000 [==============================] - 0s 6us/step - loss: 0.2452 - accuracy: 0.9290 - val_loss: 0.2403 - val_accuracy: 0.9315\n",
      "Epoch 277/300\n",
      "8000/8000 [==============================] - 0s 6us/step - loss: 0.2445 - accuracy: 0.9285 - val_loss: 0.2404 - val_accuracy: 0.9330\n",
      "Epoch 278/300\n",
      "8000/8000 [==============================] - 0s 6us/step - loss: 0.2439 - accuracy: 0.9285 - val_loss: 0.2407 - val_accuracy: 0.9335\n",
      "Epoch 279/300\n",
      "8000/8000 [==============================] - 0s 6us/step - loss: 0.2434 - accuracy: 0.9289 - val_loss: 0.2376 - val_accuracy: 0.9340\n"
     ]
    },
    {
     "name": "stdout",
     "output_type": "stream",
     "text": [
      "Epoch 280/300\n",
      "8000/8000 [==============================] - 0s 6us/step - loss: 0.2430 - accuracy: 0.9279 - val_loss: 0.2381 - val_accuracy: 0.9320\n",
      "Epoch 281/300\n",
      "8000/8000 [==============================] - 0s 6us/step - loss: 0.2424 - accuracy: 0.9304 - val_loss: 0.2369 - val_accuracy: 0.9355\n",
      "Epoch 282/300\n",
      "8000/8000 [==============================] - 0s 6us/step - loss: 0.2429 - accuracy: 0.9298 - val_loss: 0.2391 - val_accuracy: 0.9335\n",
      "Epoch 283/300\n",
      "8000/8000 [==============================] - 0s 6us/step - loss: 0.2417 - accuracy: 0.9311 - val_loss: 0.2375 - val_accuracy: 0.9350\n",
      "Epoch 284/300\n",
      "8000/8000 [==============================] - 0s 6us/step - loss: 0.2416 - accuracy: 0.9287 - val_loss: 0.2371 - val_accuracy: 0.9335\n",
      "Epoch 285/300\n",
      "8000/8000 [==============================] - 0s 6us/step - loss: 0.2406 - accuracy: 0.9302 - val_loss: 0.2370 - val_accuracy: 0.9330\n",
      "Epoch 286/300\n",
      "8000/8000 [==============================] - 0s 6us/step - loss: 0.2405 - accuracy: 0.9298 - val_loss: 0.2352 - val_accuracy: 0.9345\n",
      "Epoch 287/300\n",
      "8000/8000 [==============================] - 0s 6us/step - loss: 0.2401 - accuracy: 0.9310 - val_loss: 0.2373 - val_accuracy: 0.9325\n",
      "Epoch 288/300\n",
      "8000/8000 [==============================] - 0s 6us/step - loss: 0.2391 - accuracy: 0.9301 - val_loss: 0.2343 - val_accuracy: 0.9315\n",
      "Epoch 289/300\n",
      "8000/8000 [==============================] - 0s 6us/step - loss: 0.2383 - accuracy: 0.9311 - val_loss: 0.2369 - val_accuracy: 0.9340\n",
      "Epoch 290/300\n",
      "8000/8000 [==============================] - 0s 6us/step - loss: 0.2390 - accuracy: 0.9299 - val_loss: 0.2346 - val_accuracy: 0.9340\n",
      "Epoch 291/300\n",
      "8000/8000 [==============================] - 0s 6us/step - loss: 0.2381 - accuracy: 0.9314 - val_loss: 0.2322 - val_accuracy: 0.9360\n",
      "Epoch 292/300\n",
      "8000/8000 [==============================] - 0s 6us/step - loss: 0.2379 - accuracy: 0.9302 - val_loss: 0.2336 - val_accuracy: 0.9335\n",
      "Epoch 293/300\n",
      "8000/8000 [==============================] - 0s 6us/step - loss: 0.2375 - accuracy: 0.9312 - val_loss: 0.2330 - val_accuracy: 0.9350\n",
      "Epoch 294/300\n",
      "8000/8000 [==============================] - 0s 6us/step - loss: 0.2368 - accuracy: 0.9315 - val_loss: 0.2326 - val_accuracy: 0.9355\n",
      "Epoch 295/300\n",
      "8000/8000 [==============================] - 0s 6us/step - loss: 0.2365 - accuracy: 0.9315 - val_loss: 0.2325 - val_accuracy: 0.9325\n",
      "Epoch 296/300\n",
      "8000/8000 [==============================] - 0s 6us/step - loss: 0.2362 - accuracy: 0.9301 - val_loss: 0.2330 - val_accuracy: 0.9320\n",
      "Epoch 297/300\n",
      "8000/8000 [==============================] - 0s 6us/step - loss: 0.2356 - accuracy: 0.9320 - val_loss: 0.2316 - val_accuracy: 0.9355\n",
      "Epoch 298/300\n",
      "8000/8000 [==============================] - 0s 6us/step - loss: 0.2347 - accuracy: 0.9304 - val_loss: 0.2292 - val_accuracy: 0.9350\n",
      "Epoch 299/300\n",
      "8000/8000 [==============================] - 0s 6us/step - loss: 0.2346 - accuracy: 0.9337 - val_loss: 0.2300 - val_accuracy: 0.9350\n",
      "Epoch 300/300\n",
      "8000/8000 [==============================] - 0s 6us/step - loss: 0.2340 - accuracy: 0.9319 - val_loss: 0.2306 - val_accuracy: 0.9355\n"
     ]
    },
    {
     "data": {
      "text/plain": [
       "<keras.callbacks.callbacks.History at 0x7f4089c4e910>"
      ]
     },
     "execution_count": 41,
     "metadata": {},
     "output_type": "execute_result"
    }
   ],
   "source": [
    "model.fit(x_train, y_train,\n",
    "          epochs=300,\n",
    "          batch_size=128, validation_split=0.2)"
   ]
  },
  {
   "cell_type": "code",
   "execution_count": 42,
   "metadata": {},
   "outputs": [
    {
     "name": "stdout",
     "output_type": "stream",
     "text": [
      "2000/2000 [==============================] - 0s 10us/step\n",
      "\n",
      "Testing loss: 0.25, acc: 0.93%\n"
     ]
    }
   ],
   "source": [
    "loss, acc = model.evaluate(x_test, y_test)\n",
    "print('\\nTesting loss: %.2f, acc: %.2f%%'%(loss, acc))"
   ]
  },
  {
   "cell_type": "code",
   "execution_count": 44,
   "metadata": {},
   "outputs": [
    {
     "name": "stdout",
     "output_type": "stream",
     "text": [
      "predicted:\n",
      "[5 8 8 ... 6 8 5]\n",
      "True Label:\n",
      "[[0. 0. 0. ... 0. 0. 0.]\n",
      " [0. 0. 0. ... 0. 1. 0.]\n",
      " [0. 0. 0. ... 0. 1. 0.]\n",
      " ...\n",
      " [0. 0. 0. ... 0. 0. 0.]\n",
      " [0. 0. 0. ... 0. 1. 0.]\n",
      " [0. 0. 0. ... 0. 0. 0.]]\n"
     ]
    }
   ],
   "source": [
    "# The predict_classes function outputs the highest probability class\n",
    "# according to the trained classifier for each input example.\n",
    "predicted_classes = model.predict_classes(x_test)\n",
    "print(\"predicted:\")\n",
    "print(predicted_classes)\n",
    "print(\"True Label:\")\n",
    "print(y_test)"
   ]
  },
  {
   "cell_type": "code",
   "execution_count": null,
   "metadata": {},
   "outputs": [],
   "source": []
  }
 ],
 "metadata": {
  "kernelspec": {
   "display_name": "Python 3",
   "language": "python",
   "name": "python3"
  },
  "language_info": {
   "codemirror_mode": {
    "name": "ipython",
    "version": 3
   },
   "file_extension": ".py",
   "mimetype": "text/x-python",
   "name": "python",
   "nbconvert_exporter": "python",
   "pygments_lexer": "ipython3",
   "version": "3.7.9"
  }
 },
 "nbformat": 4,
 "nbformat_minor": 4
}
